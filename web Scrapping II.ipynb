{
 "cells": [
  {
   "cell_type": "markdown",
   "id": "9efa7efc",
   "metadata": {},
   "source": [
    "# Install Selenium"
   ]
  },
  {
   "cell_type": "code",
   "execution_count": 1,
   "id": "47b5577a",
   "metadata": {
    "scrolled": true
   },
   "outputs": [
    {
     "name": "stdout",
     "output_type": "stream",
     "text": [
      "Defaulting to user installation because normal site-packages is not writeable\n",
      "Collecting selenium\n",
      "  Downloading selenium-4.1.3-py3-none-any.whl (968 kB)\n",
      "Collecting trio-websocket~=0.9\n",
      "  Downloading trio_websocket-0.9.2-py3-none-any.whl (16 kB)\n",
      "Requirement already satisfied: urllib3[secure,socks]~=1.26 in c:\\program files\\python1\\lib\\site-packages (from selenium) (1.26.4)\n",
      "Collecting trio~=0.17\n",
      "  Downloading trio-0.20.0-py3-none-any.whl (359 kB)\n",
      "Requirement already satisfied: idna in c:\\program files\\python1\\lib\\site-packages (from trio~=0.17->selenium) (2.10)\n",
      "Requirement already satisfied: sniffio in c:\\program files\\python1\\lib\\site-packages (from trio~=0.17->selenium) (1.2.0)\n",
      "Requirement already satisfied: async-generator>=1.9 in c:\\program files\\python1\\lib\\site-packages (from trio~=0.17->selenium) (1.10)\n",
      "Requirement already satisfied: sortedcontainers in c:\\program files\\python1\\lib\\site-packages (from trio~=0.17->selenium) (2.3.0)\n",
      "Collecting outcome\n",
      "  Downloading outcome-1.1.0-py2.py3-none-any.whl (9.7 kB)\n",
      "Requirement already satisfied: attrs>=19.2.0 in c:\\program files\\python1\\lib\\site-packages (from trio~=0.17->selenium) (20.3.0)\n",
      "Requirement already satisfied: cffi>=1.14 in c:\\program files\\python1\\lib\\site-packages (from trio~=0.17->selenium) (1.14.5)\n",
      "Requirement already satisfied: pycparser in c:\\program files\\python1\\lib\\site-packages (from cffi>=1.14->trio~=0.17->selenium) (2.20)\n",
      "Collecting wsproto>=0.14\n",
      "  Downloading wsproto-1.1.0-py3-none-any.whl (24 kB)\n",
      "Requirement already satisfied: PySocks!=1.5.7,<2.0,>=1.5.6 in c:\\program files\\python1\\lib\\site-packages (from urllib3[secure,socks]~=1.26->selenium) (1.7.1)\n",
      "Requirement already satisfied: pyOpenSSL>=0.14 in c:\\program files\\python1\\lib\\site-packages (from urllib3[secure,socks]~=1.26->selenium) (20.0.1)\n",
      "Requirement already satisfied: cryptography>=1.3.4 in c:\\program files\\python1\\lib\\site-packages (from urllib3[secure,socks]~=1.26->selenium) (3.4.7)\n",
      "Requirement already satisfied: certifi in c:\\program files\\python1\\lib\\site-packages (from urllib3[secure,socks]~=1.26->selenium) (2020.12.5)\n",
      "Requirement already satisfied: six>=1.5.2 in c:\\program files\\python1\\lib\\site-packages (from pyOpenSSL>=0.14->urllib3[secure,socks]~=1.26->selenium) (1.15.0)\n",
      "Collecting h11<1,>=0.9.0\n",
      "  Downloading h11-0.13.0-py3-none-any.whl (58 kB)\n",
      "Installing collected packages: outcome, h11, wsproto, trio, trio-websocket, selenium\n",
      "Successfully installed h11-0.13.0 outcome-1.1.0 selenium-4.1.3 trio-0.20.0 trio-websocket-0.9.2 wsproto-1.1.0\n"
     ]
    }
   ],
   "source": [
    "# ! pip install selenium"
   ]
  },
  {
   "cell_type": "markdown",
   "id": "f95b44c7",
   "metadata": {},
   "source": [
    "# 1. Python program to scrape data for “Data Analyst” Job position in “Bangalore” location from naukri.com"
   ]
  },
  {
   "cell_type": "markdown",
   "id": "e8b2a8bb",
   "metadata": {},
   "source": [
    "# Import Libraries"
   ]
  },
  {
   "cell_type": "code",
   "execution_count": 187,
   "id": "9f285ec7",
   "metadata": {},
   "outputs": [],
   "source": [
    "import selenium\n",
    "import pandas as pd\n",
    "from selenium import webdriver\n",
    "import warnings\n",
    "warnings.filterwarnings('ignore')\n",
    "import time"
   ]
  },
  {
   "cell_type": "markdown",
   "id": "1ed17496",
   "metadata": {},
   "source": [
    "# Connect with webdriver"
   ]
  },
  {
   "cell_type": "code",
   "execution_count": 2,
   "id": "22d7f9d4",
   "metadata": {},
   "outputs": [],
   "source": [
    "driver= webdriver.Chrome(r'C:\\Users\\user\\Downloads\\chromedriver_win32\\chromedriver.exe')"
   ]
  },
  {
   "cell_type": "code",
   "execution_count": 6,
   "id": "8db54386",
   "metadata": {},
   "outputs": [],
   "source": [
    "#driver= webdriver.Chrome('chromedriver.exe')\n"
   ]
  },
  {
   "cell_type": "code",
   "execution_count": 29,
   "id": "298ea596",
   "metadata": {},
   "outputs": [],
   "source": [
    "#driver.close()"
   ]
  },
  {
   "cell_type": "code",
   "execution_count": 3,
   "id": "a0906934",
   "metadata": {},
   "outputs": [],
   "source": [
    "driver.get('https://www.naukri.com/')"
   ]
  },
  {
   "cell_type": "markdown",
   "id": "4ee8ded7",
   "metadata": {},
   "source": [
    "# Finding Elements For Job Search"
   ]
  },
  {
   "cell_type": "code",
   "execution_count": 4,
   "id": "41481083",
   "metadata": {},
   "outputs": [],
   "source": [
    "search_field_designation= driver.find_element_by_class_name(\"suggestor-input\")\n",
    "search_field_designation.send_keys(\"Data Analyst\")\n",
    "search_field_location= driver.find_element_by_xpath(\"/html/body/div/div[2]/div[3]/div/div/div[3]/div/div/div/input\")\n",
    "search_field_location.send_keys(\"Bangalore\")"
   ]
  },
  {
   "cell_type": "code",
   "execution_count": 5,
   "id": "8c1e57e0",
   "metadata": {},
   "outputs": [],
   "source": [
    "search_button=driver.find_element_by_xpath(\"/html/body/div/div[2]/div[3]/div/div/div[6]\")\n",
    "search_button.click()"
   ]
  },
  {
   "cell_type": "markdown",
   "id": "7dd849b6",
   "metadata": {},
   "source": [
    "Opening the specific page with url"
   ]
  },
  {
   "cell_type": "code",
   "execution_count": 23,
   "id": "524dcc07",
   "metadata": {},
   "outputs": [],
   "source": [
    "url='https://www.naukri.com/data-analyst-jobs-in-bangalore?k=data%20analyst&l=bangalore'"
   ]
  },
  {
   "cell_type": "code",
   "execution_count": 24,
   "id": "c27e0570",
   "metadata": {},
   "outputs": [],
   "source": [
    "driver.get(url)"
   ]
  },
  {
   "cell_type": "code",
   "execution_count": 6,
   "id": "8e0d7893",
   "metadata": {},
   "outputs": [],
   "source": [
    "job_title=[]\n",
    "job_location=[]\n",
    "company_name=[]\n",
    "experience_required=[]\n"
   ]
  },
  {
   "cell_type": "markdown",
   "id": "5104ab96",
   "metadata": {},
   "source": [
    "# Job Title"
   ]
  },
  {
   "cell_type": "markdown",
   "id": "17fef1de",
   "metadata": {},
   "source": [
    "Find all tags with Job Title"
   ]
  },
  {
   "cell_type": "code",
   "execution_count": 7,
   "id": "5d6cb8b5",
   "metadata": {},
   "outputs": [
    {
     "data": {
      "text/plain": [
       "[<selenium.webdriver.remote.webelement.WebElement (session=\"3ffd9a30f1cb063f6ea5c8f600c3cc2d\", element=\"df7b5ab2-8485-4c73-af2b-6c586ac7b5c6\")>,\n",
       " <selenium.webdriver.remote.webelement.WebElement (session=\"3ffd9a30f1cb063f6ea5c8f600c3cc2d\", element=\"38c723fa-7aa1-4764-9a97-384501b269af\")>,\n",
       " <selenium.webdriver.remote.webelement.WebElement (session=\"3ffd9a30f1cb063f6ea5c8f600c3cc2d\", element=\"1184f08a-6b45-442a-94fd-82701e39c485\")>,\n",
       " <selenium.webdriver.remote.webelement.WebElement (session=\"3ffd9a30f1cb063f6ea5c8f600c3cc2d\", element=\"773ca98d-dd27-4509-8716-4c98deeb20b5\")>,\n",
       " <selenium.webdriver.remote.webelement.WebElement (session=\"3ffd9a30f1cb063f6ea5c8f600c3cc2d\", element=\"bcddb6e1-2b67-43e8-91c2-e007f0b94c24\")>,\n",
       " <selenium.webdriver.remote.webelement.WebElement (session=\"3ffd9a30f1cb063f6ea5c8f600c3cc2d\", element=\"b51d18a3-c6bf-4fb6-a477-762b13df466e\")>,\n",
       " <selenium.webdriver.remote.webelement.WebElement (session=\"3ffd9a30f1cb063f6ea5c8f600c3cc2d\", element=\"345c5ddf-af0a-4374-9487-cee8dc315031\")>,\n",
       " <selenium.webdriver.remote.webelement.WebElement (session=\"3ffd9a30f1cb063f6ea5c8f600c3cc2d\", element=\"729b61ba-9477-450c-9559-7297ff5753d4\")>,\n",
       " <selenium.webdriver.remote.webelement.WebElement (session=\"3ffd9a30f1cb063f6ea5c8f600c3cc2d\", element=\"4256f491-0f83-4715-8239-5fe6bea663ae\")>,\n",
       " <selenium.webdriver.remote.webelement.WebElement (session=\"3ffd9a30f1cb063f6ea5c8f600c3cc2d\", element=\"d3215cee-f806-4c42-a8a2-a8948197e8a4\")>]"
      ]
     },
     "execution_count": 7,
     "metadata": {},
     "output_type": "execute_result"
    }
   ],
   "source": [
    "title_tag= driver.find_elements_by_xpath(\"//a[@class='title fw500 ellipsis']\")\n",
    "title_tag[0:10]"
   ]
  },
  {
   "cell_type": "markdown",
   "id": "d70f4c32",
   "metadata": {},
   "source": [
    "The tags have the text inside it. Then we will scrap the title from it."
   ]
  },
  {
   "cell_type": "code",
   "execution_count": 8,
   "id": "3be1dc06",
   "metadata": {},
   "outputs": [
    {
     "data": {
      "text/plain": [
       "['Sr Domain Expert -Data Analysts',\n",
       " 'Senior Data Analyst',\n",
       " 'Senior Data Analyst',\n",
       " 'Senior Data Analyst (Digital Services Analytics)',\n",
       " 'Senior Data Analyst',\n",
       " 'Data Analyst',\n",
       " 'Senior Data Analyst',\n",
       " 'Senior Data Analyst',\n",
       " 'Senior Data Analyst - Collibra',\n",
       " 'Staff Business Data Analyst - FDP']"
      ]
     },
     "execution_count": 8,
     "metadata": {},
     "output_type": "execute_result"
    }
   ],
   "source": [
    "for i in title_tag:\n",
    "    title=i.text\n",
    "    job_title.append(title)\n",
    "job_title[0:10]"
   ]
  },
  {
   "cell_type": "markdown",
   "id": "5a547de5",
   "metadata": {},
   "source": [
    "# Job Location"
   ]
  },
  {
   "cell_type": "markdown",
   "id": "1a30e5f1",
   "metadata": {},
   "source": [
    "Find all tags with Job Location"
   ]
  },
  {
   "cell_type": "code",
   "execution_count": 9,
   "id": "93db4cf3",
   "metadata": {},
   "outputs": [
    {
     "data": {
      "text/plain": [
       "[<selenium.webdriver.remote.webelement.WebElement (session=\"3ffd9a30f1cb063f6ea5c8f600c3cc2d\", element=\"453f2011-4c85-4309-9e5e-fa1c33397e9d\")>,\n",
       " <selenium.webdriver.remote.webelement.WebElement (session=\"3ffd9a30f1cb063f6ea5c8f600c3cc2d\", element=\"ef30df15-f7fd-4767-baed-5af180d7bfff\")>,\n",
       " <selenium.webdriver.remote.webelement.WebElement (session=\"3ffd9a30f1cb063f6ea5c8f600c3cc2d\", element=\"c680b894-3f4e-45de-b491-c257e8930acc\")>,\n",
       " <selenium.webdriver.remote.webelement.WebElement (session=\"3ffd9a30f1cb063f6ea5c8f600c3cc2d\", element=\"a0ef7b35-bd95-44f9-a698-3c961dbeb53d\")>,\n",
       " <selenium.webdriver.remote.webelement.WebElement (session=\"3ffd9a30f1cb063f6ea5c8f600c3cc2d\", element=\"7327c508-5752-455c-a454-71dd9c2caafc\")>,\n",
       " <selenium.webdriver.remote.webelement.WebElement (session=\"3ffd9a30f1cb063f6ea5c8f600c3cc2d\", element=\"a624d14b-a208-4b22-9986-9bab38fd120e\")>,\n",
       " <selenium.webdriver.remote.webelement.WebElement (session=\"3ffd9a30f1cb063f6ea5c8f600c3cc2d\", element=\"da36dadb-b4fa-4d93-a68f-7f5671645668\")>,\n",
       " <selenium.webdriver.remote.webelement.WebElement (session=\"3ffd9a30f1cb063f6ea5c8f600c3cc2d\", element=\"b6e2a755-6caf-4ae1-b1b1-1db443b124ac\")>,\n",
       " <selenium.webdriver.remote.webelement.WebElement (session=\"3ffd9a30f1cb063f6ea5c8f600c3cc2d\", element=\"00066f25-98e0-4089-8875-b37f9d730ca0\")>,\n",
       " <selenium.webdriver.remote.webelement.WebElement (session=\"3ffd9a30f1cb063f6ea5c8f600c3cc2d\", element=\"7a0501d4-d2e4-40fc-b577-90b9a8c3c28b\")>]"
      ]
     },
     "execution_count": 9,
     "metadata": {},
     "output_type": "execute_result"
    }
   ],
   "source": [
    "location_tag= driver.find_elements_by_xpath(\"//li[@class='fleft grey-text br2 placeHolderLi location']/span[1]\")\n",
    "location_tag[0:10]"
   ]
  },
  {
   "cell_type": "code",
   "execution_count": 10,
   "id": "30fad13a",
   "metadata": {},
   "outputs": [
    {
     "data": {
      "text/plain": [
       "['Bangalore/Bengaluru',\n",
       " 'Bangalore/Bengaluru',\n",
       " 'Bangalore/Bengaluru(Old Madras Road)',\n",
       " 'Bangalore/Bengaluru',\n",
       " 'Bangalore/Bengaluru',\n",
       " 'Bangalore/Bengaluru',\n",
       " 'Chennai, Bangalore/Bengaluru',\n",
       " 'Bangalore/Bengaluru',\n",
       " 'Bangalore/Bengaluru',\n",
       " 'Bangalore/Bengaluru']"
      ]
     },
     "execution_count": 10,
     "metadata": {},
     "output_type": "execute_result"
    }
   ],
   "source": [
    "# We will scrap the location details from the tag\n",
    "\n",
    "for i in location_tag:\n",
    "    location=i.text\n",
    "    job_location.append(location)\n",
    "    \n",
    "job_location[0:10]"
   ]
  },
  {
   "cell_type": "markdown",
   "id": "ea460b3d",
   "metadata": {},
   "source": [
    "# Company Name"
   ]
  },
  {
   "cell_type": "markdown",
   "id": "fac3a659",
   "metadata": {},
   "source": [
    "Find all tags with company name"
   ]
  },
  {
   "cell_type": "code",
   "execution_count": 11,
   "id": "98434849",
   "metadata": {},
   "outputs": [
    {
     "data": {
      "text/plain": [
       "[<selenium.webdriver.remote.webelement.WebElement (session=\"3ffd9a30f1cb063f6ea5c8f600c3cc2d\", element=\"0190ec3d-a275-4213-8e20-ed38474fd464\")>,\n",
       " <selenium.webdriver.remote.webelement.WebElement (session=\"3ffd9a30f1cb063f6ea5c8f600c3cc2d\", element=\"2f56ea3c-5eaf-4f1d-9e01-373eba5574ff\")>,\n",
       " <selenium.webdriver.remote.webelement.WebElement (session=\"3ffd9a30f1cb063f6ea5c8f600c3cc2d\", element=\"d3150bfb-46e2-4c99-b95a-441ca3708a59\")>,\n",
       " <selenium.webdriver.remote.webelement.WebElement (session=\"3ffd9a30f1cb063f6ea5c8f600c3cc2d\", element=\"48ef0e4d-07f5-4218-851a-bdf3c075c53d\")>,\n",
       " <selenium.webdriver.remote.webelement.WebElement (session=\"3ffd9a30f1cb063f6ea5c8f600c3cc2d\", element=\"38469c84-4086-4a23-8b6a-9c0c86ea6835\")>,\n",
       " <selenium.webdriver.remote.webelement.WebElement (session=\"3ffd9a30f1cb063f6ea5c8f600c3cc2d\", element=\"983975f8-16e8-4676-a704-38fac5052d35\")>,\n",
       " <selenium.webdriver.remote.webelement.WebElement (session=\"3ffd9a30f1cb063f6ea5c8f600c3cc2d\", element=\"398b2a24-80fc-4cb4-a2f5-d5f5b0ceb656\")>,\n",
       " <selenium.webdriver.remote.webelement.WebElement (session=\"3ffd9a30f1cb063f6ea5c8f600c3cc2d\", element=\"db881682-4d1d-44f7-8a7a-2993bec3dc83\")>,\n",
       " <selenium.webdriver.remote.webelement.WebElement (session=\"3ffd9a30f1cb063f6ea5c8f600c3cc2d\", element=\"a62eee8f-4534-4492-84f1-d7d023646a13\")>,\n",
       " <selenium.webdriver.remote.webelement.WebElement (session=\"3ffd9a30f1cb063f6ea5c8f600c3cc2d\", element=\"32d9022e-dd31-4528-b433-d9b01d6460b5\")>]"
      ]
     },
     "execution_count": 11,
     "metadata": {},
     "output_type": "execute_result"
    }
   ],
   "source": [
    "company_tag= driver.find_elements_by_xpath(\"//a[@class='subTitle ellipsis fleft']\")\n",
    "company_tag[0:10]"
   ]
  },
  {
   "cell_type": "code",
   "execution_count": 12,
   "id": "103dfa7d",
   "metadata": {},
   "outputs": [
    {
     "data": {
      "text/plain": [
       "['Siemens',\n",
       " 'Walmart',\n",
       " 'FINNOVATION TECH SOLUTIONS PRIVATE LIMITED',\n",
       " 'Dell Technologies',\n",
       " 'Cerner',\n",
       " 'Enrich talents',\n",
       " 'LatentView',\n",
       " 'Intel',\n",
       " 'Shell',\n",
       " 'Intuit Inc.']"
      ]
     },
     "execution_count": 12,
     "metadata": {},
     "output_type": "execute_result"
    }
   ],
   "source": [
    "# Now we will take only the company name text from it.\n",
    "\n",
    "for i in company_tag:\n",
    "    company=i.text\n",
    "    company_name.append(company)\n",
    "    \n",
    "company_name[0:10]"
   ]
  },
  {
   "cell_type": "markdown",
   "id": "78c64db7",
   "metadata": {},
   "source": [
    "# Experience Required"
   ]
  },
  {
   "cell_type": "markdown",
   "id": "f985523b",
   "metadata": {},
   "source": [
    "Find all tags with experience "
   ]
  },
  {
   "cell_type": "code",
   "execution_count": 13,
   "id": "06eb8837",
   "metadata": {},
   "outputs": [
    {
     "data": {
      "text/plain": [
       "[<selenium.webdriver.remote.webelement.WebElement (session=\"3ffd9a30f1cb063f6ea5c8f600c3cc2d\", element=\"ff35aeb8-b885-4ff5-b5c6-f9a41f03e5bb\")>,\n",
       " <selenium.webdriver.remote.webelement.WebElement (session=\"3ffd9a30f1cb063f6ea5c8f600c3cc2d\", element=\"f33c05c3-3e8c-4812-9aae-f6923d5f5ee7\")>,\n",
       " <selenium.webdriver.remote.webelement.WebElement (session=\"3ffd9a30f1cb063f6ea5c8f600c3cc2d\", element=\"42a62c2d-fb00-4791-adb7-ce6d232311d3\")>,\n",
       " <selenium.webdriver.remote.webelement.WebElement (session=\"3ffd9a30f1cb063f6ea5c8f600c3cc2d\", element=\"8a4c88b3-4829-42c0-b3d7-6fdaee8a164b\")>,\n",
       " <selenium.webdriver.remote.webelement.WebElement (session=\"3ffd9a30f1cb063f6ea5c8f600c3cc2d\", element=\"a01617ec-e7c4-4505-9d65-e6e16dc4d4c0\")>,\n",
       " <selenium.webdriver.remote.webelement.WebElement (session=\"3ffd9a30f1cb063f6ea5c8f600c3cc2d\", element=\"72783f9f-cc59-451c-b673-1d3d9e904f9a\")>,\n",
       " <selenium.webdriver.remote.webelement.WebElement (session=\"3ffd9a30f1cb063f6ea5c8f600c3cc2d\", element=\"9634b95c-c1d8-436a-9507-766da5eaa69c\")>,\n",
       " <selenium.webdriver.remote.webelement.WebElement (session=\"3ffd9a30f1cb063f6ea5c8f600c3cc2d\", element=\"14493cbe-ba8c-4ede-8db2-fb4f653bf38b\")>,\n",
       " <selenium.webdriver.remote.webelement.WebElement (session=\"3ffd9a30f1cb063f6ea5c8f600c3cc2d\", element=\"bc3d1113-9d61-47b8-bdd0-8381d4f4b4e1\")>,\n",
       " <selenium.webdriver.remote.webelement.WebElement (session=\"3ffd9a30f1cb063f6ea5c8f600c3cc2d\", element=\"49af314d-03f3-484d-b17f-8f49a02e2b30\")>]"
      ]
     },
     "execution_count": 13,
     "metadata": {},
     "output_type": "execute_result"
    }
   ],
   "source": [
    "experience_tag= driver.find_elements_by_xpath(\"//li[@class='fleft grey-text br2 placeHolderLi experience']/span[1]\")\n",
    "experience_tag[0:10]"
   ]
  },
  {
   "cell_type": "code",
   "execution_count": 14,
   "id": "4b584bf3",
   "metadata": {},
   "outputs": [
    {
     "data": {
      "text/plain": [
       "['0-10 Yrs',\n",
       " '5-8 Yrs',\n",
       " '3-6 Yrs',\n",
       " '1-6 Yrs',\n",
       " '8-12 Yrs',\n",
       " '0-4 Yrs',\n",
       " '2-6 Yrs',\n",
       " '3-8 Yrs',\n",
       " '8-12 Yrs',\n",
       " '5-7 Yrs']"
      ]
     },
     "execution_count": 14,
     "metadata": {},
     "output_type": "execute_result"
    }
   ],
   "source": [
    "# Now we will scrap the experience required from the tag\n",
    "\n",
    "for i in experience_tag:\n",
    "    experience=i.text\n",
    "    experience_required.append(experience)\n",
    "    \n",
    "experience_required[0:10]"
   ]
  },
  {
   "cell_type": "markdown",
   "id": "ff9c6096",
   "metadata": {},
   "source": [
    "Check The Length of the lists before storing in a dataframe"
   ]
  },
  {
   "cell_type": "code",
   "execution_count": 15,
   "id": "71815580",
   "metadata": {},
   "outputs": [
    {
     "name": "stdout",
     "output_type": "stream",
     "text": [
      "20 20 20 20\n"
     ]
    }
   ],
   "source": [
    "print(len(job_title), len(job_location), len(company_name), len(experience_required))"
   ]
  },
  {
   "cell_type": "markdown",
   "id": "6cb7b174",
   "metadata": {},
   "source": [
    "# Make Dataframe"
   ]
  },
  {
   "cell_type": "code",
   "execution_count": 16,
   "id": "7d5f94a8",
   "metadata": {},
   "outputs": [
    {
     "data": {
      "text/html": [
       "<div>\n",
       "<style scoped>\n",
       "    .dataframe tbody tr th:only-of-type {\n",
       "        vertical-align: middle;\n",
       "    }\n",
       "\n",
       "    .dataframe tbody tr th {\n",
       "        vertical-align: top;\n",
       "    }\n",
       "\n",
       "    .dataframe thead th {\n",
       "        text-align: right;\n",
       "    }\n",
       "</style>\n",
       "<table border=\"1\" class=\"dataframe\">\n",
       "  <thead>\n",
       "    <tr style=\"text-align: right;\">\n",
       "      <th></th>\n",
       "      <th>Job_Title</th>\n",
       "      <th>Job_Location</th>\n",
       "      <th>Company_Name</th>\n",
       "      <th>Experience_Required</th>\n",
       "    </tr>\n",
       "  </thead>\n",
       "  <tbody>\n",
       "    <tr>\n",
       "      <th>0</th>\n",
       "      <td>Sr Domain Expert -Data Analysts</td>\n",
       "      <td>Bangalore/Bengaluru</td>\n",
       "      <td>Siemens</td>\n",
       "      <td>0-10 Yrs</td>\n",
       "    </tr>\n",
       "    <tr>\n",
       "      <th>1</th>\n",
       "      <td>Senior Data Analyst</td>\n",
       "      <td>Bangalore/Bengaluru</td>\n",
       "      <td>Walmart</td>\n",
       "      <td>5-8 Yrs</td>\n",
       "    </tr>\n",
       "    <tr>\n",
       "      <th>2</th>\n",
       "      <td>Senior Data Analyst</td>\n",
       "      <td>Bangalore/Bengaluru(Old Madras Road)</td>\n",
       "      <td>FINNOVATION TECH SOLUTIONS PRIVATE LIMITED</td>\n",
       "      <td>3-6 Yrs</td>\n",
       "    </tr>\n",
       "    <tr>\n",
       "      <th>3</th>\n",
       "      <td>Senior Data Analyst (Digital Services Analytics)</td>\n",
       "      <td>Bangalore/Bengaluru</td>\n",
       "      <td>Dell Technologies</td>\n",
       "      <td>1-6 Yrs</td>\n",
       "    </tr>\n",
       "    <tr>\n",
       "      <th>4</th>\n",
       "      <td>Senior Data Analyst</td>\n",
       "      <td>Bangalore/Bengaluru</td>\n",
       "      <td>Cerner</td>\n",
       "      <td>8-12 Yrs</td>\n",
       "    </tr>\n",
       "    <tr>\n",
       "      <th>5</th>\n",
       "      <td>Data Analyst</td>\n",
       "      <td>Bangalore/Bengaluru</td>\n",
       "      <td>Enrich talents</td>\n",
       "      <td>0-4 Yrs</td>\n",
       "    </tr>\n",
       "    <tr>\n",
       "      <th>6</th>\n",
       "      <td>Senior Data Analyst</td>\n",
       "      <td>Chennai, Bangalore/Bengaluru</td>\n",
       "      <td>LatentView</td>\n",
       "      <td>2-6 Yrs</td>\n",
       "    </tr>\n",
       "    <tr>\n",
       "      <th>7</th>\n",
       "      <td>Senior Data Analyst</td>\n",
       "      <td>Bangalore/Bengaluru</td>\n",
       "      <td>Intel</td>\n",
       "      <td>3-8 Yrs</td>\n",
       "    </tr>\n",
       "    <tr>\n",
       "      <th>8</th>\n",
       "      <td>Senior Data Analyst - Collibra</td>\n",
       "      <td>Bangalore/Bengaluru</td>\n",
       "      <td>Shell</td>\n",
       "      <td>8-12 Yrs</td>\n",
       "    </tr>\n",
       "    <tr>\n",
       "      <th>9</th>\n",
       "      <td>Staff Business Data Analyst - FDP</td>\n",
       "      <td>Bangalore/Bengaluru</td>\n",
       "      <td>Intuit Inc.</td>\n",
       "      <td>5-7 Yrs</td>\n",
       "    </tr>\n",
       "  </tbody>\n",
       "</table>\n",
       "</div>"
      ],
      "text/plain": [
       "                                          Job_Title  \\\n",
       "0                   Sr Domain Expert -Data Analysts   \n",
       "1                               Senior Data Analyst   \n",
       "2                               Senior Data Analyst   \n",
       "3  Senior Data Analyst (Digital Services Analytics)   \n",
       "4                               Senior Data Analyst   \n",
       "5                                      Data Analyst   \n",
       "6                               Senior Data Analyst   \n",
       "7                               Senior Data Analyst   \n",
       "8                    Senior Data Analyst - Collibra   \n",
       "9                 Staff Business Data Analyst - FDP   \n",
       "\n",
       "                           Job_Location  \\\n",
       "0                   Bangalore/Bengaluru   \n",
       "1                   Bangalore/Bengaluru   \n",
       "2  Bangalore/Bengaluru(Old Madras Road)   \n",
       "3                   Bangalore/Bengaluru   \n",
       "4                   Bangalore/Bengaluru   \n",
       "5                   Bangalore/Bengaluru   \n",
       "6          Chennai, Bangalore/Bengaluru   \n",
       "7                   Bangalore/Bengaluru   \n",
       "8                   Bangalore/Bengaluru   \n",
       "9                   Bangalore/Bengaluru   \n",
       "\n",
       "                                 Company_Name Experience_Required  \n",
       "0                                     Siemens            0-10 Yrs  \n",
       "1                                     Walmart             5-8 Yrs  \n",
       "2  FINNOVATION TECH SOLUTIONS PRIVATE LIMITED             3-6 Yrs  \n",
       "3                           Dell Technologies             1-6 Yrs  \n",
       "4                                      Cerner            8-12 Yrs  \n",
       "5                              Enrich talents             0-4 Yrs  \n",
       "6                                  LatentView             2-6 Yrs  \n",
       "7                                       Intel             3-8 Yrs  \n",
       "8                                       Shell            8-12 Yrs  \n",
       "9                                 Intuit Inc.             5-7 Yrs  "
      ]
     },
     "execution_count": 16,
     "metadata": {},
     "output_type": "execute_result"
    }
   ],
   "source": [
    "df=pd.DataFrame({'Job_Title': job_title, 'Job_Location': job_location, 'Company_Name': company_name, 'Experience_Required': experience_required})\n",
    "df[0:10]"
   ]
  },
  {
   "cell_type": "code",
   "execution_count": 17,
   "id": "05ce49bd",
   "metadata": {},
   "outputs": [],
   "source": [
    "driver.close()"
   ]
  },
  {
   "cell_type": "markdown",
   "id": "8bad0160",
   "metadata": {},
   "source": [
    "# 2. Python program to scrape data for “Data Scientist” Job position in “Bangalore” location from Naukri.com"
   ]
  },
  {
   "cell_type": "markdown",
   "id": "84995973",
   "metadata": {},
   "source": [
    "# Connect With WebDriver"
   ]
  },
  {
   "cell_type": "code",
   "execution_count": 18,
   "id": "615d9edc",
   "metadata": {},
   "outputs": [],
   "source": [
    "driver= webdriver.Chrome(r'C:\\Users\\user\\Downloads\\chromedriver_win32\\chromedriver.exe')\n"
   ]
  },
  {
   "cell_type": "code",
   "execution_count": 19,
   "id": "e4b376e4",
   "metadata": {},
   "outputs": [],
   "source": [
    "driver.get('https://www.naukri.com/')"
   ]
  },
  {
   "cell_type": "markdown",
   "id": "b0501263",
   "metadata": {},
   "source": [
    "# Finding Elements For Job Search"
   ]
  },
  {
   "cell_type": "code",
   "execution_count": 20,
   "id": "f1f67b62",
   "metadata": {},
   "outputs": [],
   "source": [
    "search_field_designation= driver.find_element_by_class_name(\"suggestor-input \")\n",
    "search_field_designation.send_keys('Data Scientist')\n",
    "search_field_location= driver.find_element_by_xpath(\"/html/body/div/div[2]/div[3]/div/div/div[3]/div/div/div/input\")\n",
    "search_field_location.send_keys(\"Bangalore\")"
   ]
  },
  {
   "cell_type": "markdown",
   "id": "17f19876",
   "metadata": {},
   "source": [
    "# Click Search Button"
   ]
  },
  {
   "cell_type": "code",
   "execution_count": 21,
   "id": "a90a081f",
   "metadata": {},
   "outputs": [],
   "source": [
    "search_button= driver.find_element_by_xpath(\"/html/body/div/div[2]/div[3]/div/div/div[6]\")\n",
    "search_button.click()"
   ]
  },
  {
   "cell_type": "code",
   "execution_count": 22,
   "id": "44fe11bb",
   "metadata": {},
   "outputs": [],
   "source": [
    "job_title=[]\n",
    "job_location=[]\n",
    "company_name=[]"
   ]
  },
  {
   "cell_type": "markdown",
   "id": "8fb6b000",
   "metadata": {},
   "source": [
    "# Job Title"
   ]
  },
  {
   "cell_type": "markdown",
   "id": "717c0930",
   "metadata": {},
   "source": [
    "To find all the tdgs with job title "
   ]
  },
  {
   "cell_type": "code",
   "execution_count": 23,
   "id": "1aa770d7",
   "metadata": {},
   "outputs": [
    {
     "data": {
      "text/plain": [
       "[<selenium.webdriver.remote.webelement.WebElement (session=\"98832f204942906a2d1471468221364e\", element=\"06ca2628-de52-40fa-94b6-aee307dc7ffb\")>,\n",
       " <selenium.webdriver.remote.webelement.WebElement (session=\"98832f204942906a2d1471468221364e\", element=\"d28621fb-bce5-4226-8164-1b59a8df2162\")>,\n",
       " <selenium.webdriver.remote.webelement.WebElement (session=\"98832f204942906a2d1471468221364e\", element=\"d0a76439-6223-45bb-98ce-8387fb5315e8\")>,\n",
       " <selenium.webdriver.remote.webelement.WebElement (session=\"98832f204942906a2d1471468221364e\", element=\"1b7858ee-1d11-4511-b553-97d7f7d4bcc6\")>,\n",
       " <selenium.webdriver.remote.webelement.WebElement (session=\"98832f204942906a2d1471468221364e\", element=\"4861c2ba-dcf3-48cd-a8d0-135734f6cec7\")>,\n",
       " <selenium.webdriver.remote.webelement.WebElement (session=\"98832f204942906a2d1471468221364e\", element=\"6f0f20ec-a7dc-4401-93df-2799009b6908\")>,\n",
       " <selenium.webdriver.remote.webelement.WebElement (session=\"98832f204942906a2d1471468221364e\", element=\"ede6ae6e-0ea2-4f0f-8599-806cc036a1f4\")>,\n",
       " <selenium.webdriver.remote.webelement.WebElement (session=\"98832f204942906a2d1471468221364e\", element=\"89e16617-d0e2-4623-b349-fb247d2dd4e8\")>,\n",
       " <selenium.webdriver.remote.webelement.WebElement (session=\"98832f204942906a2d1471468221364e\", element=\"f7e77298-239f-40f4-a03c-828a64aeb8af\")>,\n",
       " <selenium.webdriver.remote.webelement.WebElement (session=\"98832f204942906a2d1471468221364e\", element=\"94caaaf6-aca5-4e8b-b93e-aca6ae6fd654\")>]"
      ]
     },
     "execution_count": 23,
     "metadata": {},
     "output_type": "execute_result"
    }
   ],
   "source": [
    "title_tag= driver.find_elements_by_xpath(\"//a[@class='title fw500 ellipsis']\")\n",
    "title_tag[0:10]"
   ]
  },
  {
   "cell_type": "markdown",
   "id": "8c0f0eca",
   "metadata": {},
   "source": [
    "we will scrap the text from the tag."
   ]
  },
  {
   "cell_type": "code",
   "execution_count": 24,
   "id": "42932bac",
   "metadata": {},
   "outputs": [
    {
     "data": {
      "text/plain": [
       "['Data Scientist',\n",
       " 'Data Scientist',\n",
       " 'Manager - Data Scientist Job @ Applied Materials - Bangalore',\n",
       " 'Senior Data Scientist',\n",
       " 'Senior Data Scientist',\n",
       " 'Senior Data Scientist',\n",
       " 'Junior Data Scientist',\n",
       " 'Data Analyst / Data Scientist',\n",
       " 'DATA Scientist with Fraud Analytics Experience',\n",
       " 'Staff Data Scientist']"
      ]
     },
     "execution_count": 24,
     "metadata": {},
     "output_type": "execute_result"
    }
   ],
   "source": [
    "for i in title_tag:\n",
    "    title=i.text\n",
    "    job_title.append(title)\n",
    "job_title[0:10]"
   ]
  },
  {
   "cell_type": "markdown",
   "id": "9ada9bad",
   "metadata": {},
   "source": [
    "# Job Location"
   ]
  },
  {
   "cell_type": "markdown",
   "id": "0f55b8cb",
   "metadata": {},
   "source": [
    "To Find all tags with Job Location"
   ]
  },
  {
   "cell_type": "code",
   "execution_count": 25,
   "id": "c9488bcc",
   "metadata": {},
   "outputs": [
    {
     "data": {
      "text/plain": [
       "[<selenium.webdriver.remote.webelement.WebElement (session=\"98832f204942906a2d1471468221364e\", element=\"f8bab7e1-0f05-4341-976f-3518aa2b9663\")>,\n",
       " <selenium.webdriver.remote.webelement.WebElement (session=\"98832f204942906a2d1471468221364e\", element=\"c1ea224f-7e31-4a09-b843-b4d7f8cceb1e\")>,\n",
       " <selenium.webdriver.remote.webelement.WebElement (session=\"98832f204942906a2d1471468221364e\", element=\"c4f3d006-0db3-4d2c-b6f9-3e8a6e348556\")>,\n",
       " <selenium.webdriver.remote.webelement.WebElement (session=\"98832f204942906a2d1471468221364e\", element=\"20f92219-a355-443d-b50f-0d7752230f18\")>,\n",
       " <selenium.webdriver.remote.webelement.WebElement (session=\"98832f204942906a2d1471468221364e\", element=\"c8dbdc1a-5ce3-451e-ad6b-cba7b19b1468\")>,\n",
       " <selenium.webdriver.remote.webelement.WebElement (session=\"98832f204942906a2d1471468221364e\", element=\"9db39c64-1f5e-465c-827e-96be312759bd\")>,\n",
       " <selenium.webdriver.remote.webelement.WebElement (session=\"98832f204942906a2d1471468221364e\", element=\"cc8f4f60-ef94-4354-83d5-0467ade1fe67\")>,\n",
       " <selenium.webdriver.remote.webelement.WebElement (session=\"98832f204942906a2d1471468221364e\", element=\"f72a89c5-2855-4480-95b0-0b5ae49123bd\")>,\n",
       " <selenium.webdriver.remote.webelement.WebElement (session=\"98832f204942906a2d1471468221364e\", element=\"eecdb7cf-c297-4e7a-a12b-bdbbb9e991ff\")>,\n",
       " <selenium.webdriver.remote.webelement.WebElement (session=\"98832f204942906a2d1471468221364e\", element=\"ff24e097-6d96-4f05-b1be-202f8aa73350\")>]"
      ]
     },
     "execution_count": 25,
     "metadata": {},
     "output_type": "execute_result"
    }
   ],
   "source": [
    "location_tag= driver.find_elements_by_xpath(\"//li[@class='fleft grey-text br2 placeHolderLi location']/span[1]\")\n",
    "location_tag[0:10]"
   ]
  },
  {
   "cell_type": "markdown",
   "id": "32b5ff7d",
   "metadata": {},
   "source": [
    "We will scrap the location details from the tag"
   ]
  },
  {
   "cell_type": "code",
   "execution_count": 26,
   "id": "8adaa62d",
   "metadata": {},
   "outputs": [
    {
     "data": {
      "text/plain": [
       "['Bangalore/Bengaluru',\n",
       " 'Bangalore/Bengaluru',\n",
       " 'Bangalore/Bengaluru(Whitefield)',\n",
       " 'Bangalore/Bengaluru',\n",
       " 'Bangalore/Bengaluru',\n",
       " 'Bangalore/Bengaluru',\n",
       " 'Bangalore/Bengaluru',\n",
       " 'Noida, Hyderabad/Secunderabad, Bangalore/Bengaluru',\n",
       " 'Bangalore/Bengaluru',\n",
       " 'Bangalore/Bengaluru']"
      ]
     },
     "execution_count": 26,
     "metadata": {},
     "output_type": "execute_result"
    }
   ],
   "source": [
    "\n",
    "for i in location_tag:\n",
    "    location=i.text\n",
    "    job_location.append(location)\n",
    "    \n",
    "job_location[0:10]"
   ]
  },
  {
   "cell_type": "markdown",
   "id": "afd8dc91",
   "metadata": {},
   "source": [
    "# Company Name"
   ]
  },
  {
   "cell_type": "markdown",
   "id": "bfe5f26e",
   "metadata": {},
   "source": [
    "To Find all tags with company name"
   ]
  },
  {
   "cell_type": "code",
   "execution_count": 27,
   "id": "fb926584",
   "metadata": {},
   "outputs": [
    {
     "data": {
      "text/plain": [
       "[<selenium.webdriver.remote.webelement.WebElement (session=\"98832f204942906a2d1471468221364e\", element=\"7a1f7412-bb8e-407d-a210-005a94207536\")>,\n",
       " <selenium.webdriver.remote.webelement.WebElement (session=\"98832f204942906a2d1471468221364e\", element=\"733a1cee-554b-4767-ac1f-d2854cdfeaf5\")>,\n",
       " <selenium.webdriver.remote.webelement.WebElement (session=\"98832f204942906a2d1471468221364e\", element=\"78dda807-3ccb-48b9-b072-e6570e85a57d\")>,\n",
       " <selenium.webdriver.remote.webelement.WebElement (session=\"98832f204942906a2d1471468221364e\", element=\"4b1ed196-41d2-4f10-92e3-fa729140359f\")>,\n",
       " <selenium.webdriver.remote.webelement.WebElement (session=\"98832f204942906a2d1471468221364e\", element=\"7588d885-c116-4176-b954-4270aaf8dea7\")>,\n",
       " <selenium.webdriver.remote.webelement.WebElement (session=\"98832f204942906a2d1471468221364e\", element=\"2f2e59b8-c56b-402b-b806-669a22f3bb5e\")>,\n",
       " <selenium.webdriver.remote.webelement.WebElement (session=\"98832f204942906a2d1471468221364e\", element=\"d1d8c9f3-e421-4a7f-baf7-5439b82b5902\")>,\n",
       " <selenium.webdriver.remote.webelement.WebElement (session=\"98832f204942906a2d1471468221364e\", element=\"554f6c08-94a3-4e57-8169-c0f97769f3fb\")>,\n",
       " <selenium.webdriver.remote.webelement.WebElement (session=\"98832f204942906a2d1471468221364e\", element=\"19bdf314-cfcc-4cf5-b0a6-3bf41d703a4e\")>,\n",
       " <selenium.webdriver.remote.webelement.WebElement (session=\"98832f204942906a2d1471468221364e\", element=\"ec2f6e40-cccc-4ba1-8ea4-008dd6c76a99\")>]"
      ]
     },
     "execution_count": 27,
     "metadata": {},
     "output_type": "execute_result"
    }
   ],
   "source": [
    "company_tag= driver.find_elements_by_xpath(\"//a[@class='subTitle ellipsis fleft']\")\n",
    "company_tag[0:10]"
   ]
  },
  {
   "cell_type": "markdown",
   "id": "b2d9ece0",
   "metadata": {},
   "source": [
    "Now we will take only the company name text from it."
   ]
  },
  {
   "cell_type": "code",
   "execution_count": 28,
   "id": "80ae83c1",
   "metadata": {},
   "outputs": [
    {
     "data": {
      "text/plain": [
       "['Applied Materials',\n",
       " 'Applied Materials',\n",
       " 'Applied Materials',\n",
       " 'Flipkart',\n",
       " 'GSK India',\n",
       " 'GSK India',\n",
       " 'Accenture',\n",
       " 'JK Technosoft',\n",
       " 'Concentrix',\n",
       " 'Walmart']"
      ]
     },
     "execution_count": 28,
     "metadata": {},
     "output_type": "execute_result"
    }
   ],
   "source": [
    "\n",
    "for i in company_tag:\n",
    "    company=i.text\n",
    "    company_name.append(company)\n",
    "    \n",
    "company_name[0:10]"
   ]
  },
  {
   "cell_type": "markdown",
   "id": "1a7b0e24",
   "metadata": {},
   "source": [
    "Check The Length of the lists before storing in a dataframe"
   ]
  },
  {
   "cell_type": "code",
   "execution_count": 29,
   "id": "e99ad9d3",
   "metadata": {},
   "outputs": [
    {
     "name": "stdout",
     "output_type": "stream",
     "text": [
      "20 20 20\n"
     ]
    }
   ],
   "source": [
    "print(len(job_title), len(job_location), len(company_name))"
   ]
  },
  {
   "cell_type": "markdown",
   "id": "5caf5fc3",
   "metadata": {},
   "source": [
    "# Make Dataframe"
   ]
  },
  {
   "cell_type": "code",
   "execution_count": 30,
   "id": "6ef13157",
   "metadata": {},
   "outputs": [
    {
     "data": {
      "text/html": [
       "<div>\n",
       "<style scoped>\n",
       "    .dataframe tbody tr th:only-of-type {\n",
       "        vertical-align: middle;\n",
       "    }\n",
       "\n",
       "    .dataframe tbody tr th {\n",
       "        vertical-align: top;\n",
       "    }\n",
       "\n",
       "    .dataframe thead th {\n",
       "        text-align: right;\n",
       "    }\n",
       "</style>\n",
       "<table border=\"1\" class=\"dataframe\">\n",
       "  <thead>\n",
       "    <tr style=\"text-align: right;\">\n",
       "      <th></th>\n",
       "      <th>Job_Title</th>\n",
       "      <th>Job_Location</th>\n",
       "      <th>Company_Name</th>\n",
       "    </tr>\n",
       "  </thead>\n",
       "  <tbody>\n",
       "    <tr>\n",
       "      <th>0</th>\n",
       "      <td>Data Scientist</td>\n",
       "      <td>Bangalore/Bengaluru</td>\n",
       "      <td>Applied Materials</td>\n",
       "    </tr>\n",
       "    <tr>\n",
       "      <th>1</th>\n",
       "      <td>Data Scientist</td>\n",
       "      <td>Bangalore/Bengaluru</td>\n",
       "      <td>Applied Materials</td>\n",
       "    </tr>\n",
       "    <tr>\n",
       "      <th>2</th>\n",
       "      <td>Manager - Data Scientist Job @ Applied Materia...</td>\n",
       "      <td>Bangalore/Bengaluru(Whitefield)</td>\n",
       "      <td>Applied Materials</td>\n",
       "    </tr>\n",
       "    <tr>\n",
       "      <th>3</th>\n",
       "      <td>Senior Data Scientist</td>\n",
       "      <td>Bangalore/Bengaluru</td>\n",
       "      <td>Flipkart</td>\n",
       "    </tr>\n",
       "    <tr>\n",
       "      <th>4</th>\n",
       "      <td>Senior Data Scientist</td>\n",
       "      <td>Bangalore/Bengaluru</td>\n",
       "      <td>GSK India</td>\n",
       "    </tr>\n",
       "    <tr>\n",
       "      <th>5</th>\n",
       "      <td>Senior Data Scientist</td>\n",
       "      <td>Bangalore/Bengaluru</td>\n",
       "      <td>GSK India</td>\n",
       "    </tr>\n",
       "    <tr>\n",
       "      <th>6</th>\n",
       "      <td>Junior Data Scientist</td>\n",
       "      <td>Bangalore/Bengaluru</td>\n",
       "      <td>Accenture</td>\n",
       "    </tr>\n",
       "    <tr>\n",
       "      <th>7</th>\n",
       "      <td>Data Analyst / Data Scientist</td>\n",
       "      <td>Noida, Hyderabad/Secunderabad, Bangalore/Benga...</td>\n",
       "      <td>JK Technosoft</td>\n",
       "    </tr>\n",
       "    <tr>\n",
       "      <th>8</th>\n",
       "      <td>DATA Scientist with Fraud Analytics Experience</td>\n",
       "      <td>Bangalore/Bengaluru</td>\n",
       "      <td>Concentrix</td>\n",
       "    </tr>\n",
       "    <tr>\n",
       "      <th>9</th>\n",
       "      <td>Staff Data Scientist</td>\n",
       "      <td>Bangalore/Bengaluru</td>\n",
       "      <td>Walmart</td>\n",
       "    </tr>\n",
       "  </tbody>\n",
       "</table>\n",
       "</div>"
      ],
      "text/plain": [
       "                                           Job_Title  \\\n",
       "0                                     Data Scientist   \n",
       "1                                     Data Scientist   \n",
       "2  Manager - Data Scientist Job @ Applied Materia...   \n",
       "3                              Senior Data Scientist   \n",
       "4                              Senior Data Scientist   \n",
       "5                              Senior Data Scientist   \n",
       "6                              Junior Data Scientist   \n",
       "7                      Data Analyst / Data Scientist   \n",
       "8     DATA Scientist with Fraud Analytics Experience   \n",
       "9                               Staff Data Scientist   \n",
       "\n",
       "                                        Job_Location       Company_Name  \n",
       "0                                Bangalore/Bengaluru  Applied Materials  \n",
       "1                                Bangalore/Bengaluru  Applied Materials  \n",
       "2                    Bangalore/Bengaluru(Whitefield)  Applied Materials  \n",
       "3                                Bangalore/Bengaluru           Flipkart  \n",
       "4                                Bangalore/Bengaluru          GSK India  \n",
       "5                                Bangalore/Bengaluru          GSK India  \n",
       "6                                Bangalore/Bengaluru          Accenture  \n",
       "7  Noida, Hyderabad/Secunderabad, Bangalore/Benga...      JK Technosoft  \n",
       "8                                Bangalore/Bengaluru         Concentrix  \n",
       "9                                Bangalore/Bengaluru            Walmart  "
      ]
     },
     "execution_count": 30,
     "metadata": {},
     "output_type": "execute_result"
    }
   ],
   "source": [
    "df=pd.DataFrame({'Job_Title': job_title, 'Job_Location': job_location, 'Company_Name': company_name})\n",
    "df[0:10]"
   ]
  },
  {
   "cell_type": "code",
   "execution_count": 31,
   "id": "b0aaf9fa",
   "metadata": {},
   "outputs": [],
   "source": [
    "driver.close()"
   ]
  },
  {
   "cell_type": "markdown",
   "id": "36fda57e",
   "metadata": {},
   "source": [
    "# 3. Python program to scrape data using the filters available from Naukri.com"
   ]
  },
  {
   "cell_type": "markdown",
   "id": "e07ee666",
   "metadata": {},
   "source": [
    "# Connect with webdriver"
   ]
  },
  {
   "cell_type": "code",
   "execution_count": 32,
   "id": "997435f3",
   "metadata": {},
   "outputs": [],
   "source": [
    "driver= webdriver.Chrome(r'C:\\Users\\user\\Downloads\\chromedriver_win32\\chromedriver.exe')\n"
   ]
  },
  {
   "cell_type": "code",
   "execution_count": 33,
   "id": "3967f520",
   "metadata": {},
   "outputs": [],
   "source": [
    "driver.get('https://www.naukri.com/')"
   ]
  },
  {
   "cell_type": "markdown",
   "id": "99dff295",
   "metadata": {},
   "source": [
    "# Finding Elements For Job Search"
   ]
  },
  {
   "cell_type": "code",
   "execution_count": 34,
   "id": "7d8ed2f5",
   "metadata": {},
   "outputs": [],
   "source": [
    "search_field_designation= driver.find_element_by_class_name(\"suggestor-input\")\n",
    "search_field_designation.send_keys(\"Data Scientist\")"
   ]
  },
  {
   "cell_type": "markdown",
   "id": "72cac6d0",
   "metadata": {},
   "source": [
    "# Click Search Button"
   ]
  },
  {
   "cell_type": "code",
   "execution_count": 35,
   "id": "4b4e97da",
   "metadata": {},
   "outputs": [],
   "source": [
    "search_button=driver.find_element_by_xpath(\"/html/body/div/div[2]/div[3]/div/div/div[6]\")\n",
    "search_button.click()"
   ]
  },
  {
   "cell_type": "markdown",
   "id": "96b77807",
   "metadata": {},
   "source": [
    "# To click the location and Salary filter"
   ]
  },
  {
   "cell_type": "markdown",
   "id": "24c2c493",
   "metadata": {},
   "source": [
    "Location"
   ]
  },
  {
   "cell_type": "code",
   "execution_count": 36,
   "id": "c05a2e8c",
   "metadata": {},
   "outputs": [],
   "source": [
    "search_location=driver.find_element_by_xpath(\"/html/body/div[1]/div[3]/div[2]/section[1]/div[2]/div[4]/div[2]/div[3]/label/p/span[1]\")\n",
    "search_location.click()"
   ]
  },
  {
   "cell_type": "markdown",
   "id": "e2f55fce",
   "metadata": {},
   "source": [
    "salary"
   ]
  },
  {
   "cell_type": "code",
   "execution_count": 37,
   "id": "0c678317",
   "metadata": {},
   "outputs": [],
   "source": [
    "search_salary=driver.find_element_by_xpath(\"/html/body/div[1]/div[3]/div[2]/section[1]/div[2]/div[5]/div[2]/div[2]/label/p/span[1]\")\n",
    "search_salary.click()"
   ]
  },
  {
   "cell_type": "code",
   "execution_count": 38,
   "id": "6060bc32",
   "metadata": {},
   "outputs": [],
   "source": [
    "job_title=[]\n",
    "job_location=[]\n",
    "company_name=[]\n",
    "experience_required=[]"
   ]
  },
  {
   "cell_type": "markdown",
   "id": "c19eba0f",
   "metadata": {},
   "source": [
    "# Job Title"
   ]
  },
  {
   "cell_type": "markdown",
   "id": "73c9c97e",
   "metadata": {},
   "source": [
    "To Find all tags with Job Title"
   ]
  },
  {
   "cell_type": "code",
   "execution_count": 39,
   "id": "b43f2215",
   "metadata": {},
   "outputs": [
    {
     "data": {
      "text/plain": [
       "[<selenium.webdriver.remote.webelement.WebElement (session=\"c999dc6c653a2cdde79c6833a7ffa0f5\", element=\"d6208b54-d183-49c0-915f-cfabb0d08aa5\")>,\n",
       " <selenium.webdriver.remote.webelement.WebElement (session=\"c999dc6c653a2cdde79c6833a7ffa0f5\", element=\"c9aaeeda-3994-440a-b107-cf7b5d33a4b4\")>,\n",
       " <selenium.webdriver.remote.webelement.WebElement (session=\"c999dc6c653a2cdde79c6833a7ffa0f5\", element=\"e6e4de68-b1f8-440b-8291-8d87ef0b0279\")>,\n",
       " <selenium.webdriver.remote.webelement.WebElement (session=\"c999dc6c653a2cdde79c6833a7ffa0f5\", element=\"ab2a077a-0049-4e75-b4ff-ccbaa8de520e\")>,\n",
       " <selenium.webdriver.remote.webelement.WebElement (session=\"c999dc6c653a2cdde79c6833a7ffa0f5\", element=\"53d44b2f-74fd-40d4-a92b-819f51719cef\")>,\n",
       " <selenium.webdriver.remote.webelement.WebElement (session=\"c999dc6c653a2cdde79c6833a7ffa0f5\", element=\"19ec542c-d251-43b1-a5ea-219ff0b08a62\")>,\n",
       " <selenium.webdriver.remote.webelement.WebElement (session=\"c999dc6c653a2cdde79c6833a7ffa0f5\", element=\"125b4f41-de18-49f8-996e-71b26f516213\")>,\n",
       " <selenium.webdriver.remote.webelement.WebElement (session=\"c999dc6c653a2cdde79c6833a7ffa0f5\", element=\"c904b81b-86fd-41ab-8fec-eedb610b03d7\")>,\n",
       " <selenium.webdriver.remote.webelement.WebElement (session=\"c999dc6c653a2cdde79c6833a7ffa0f5\", element=\"e8321604-90ee-4d07-8556-f23846659077\")>,\n",
       " <selenium.webdriver.remote.webelement.WebElement (session=\"c999dc6c653a2cdde79c6833a7ffa0f5\", element=\"7b320dd3-67df-4a7f-be50-d37e2894afc8\")>]"
      ]
     },
     "execution_count": 39,
     "metadata": {},
     "output_type": "execute_result"
    }
   ],
   "source": [
    "title_tag= driver.find_elements_by_xpath(\"//a[@class='title fw500 ellipsis']\")\n",
    "title_tag[0:10]"
   ]
  },
  {
   "cell_type": "markdown",
   "id": "03dc8e14",
   "metadata": {},
   "source": [
    "The tags have the text inside it. Then we will scrap the title from it."
   ]
  },
  {
   "cell_type": "code",
   "execution_count": 40,
   "id": "a300970a",
   "metadata": {},
   "outputs": [
    {
     "data": {
      "text/plain": [
       "['Data Scientist/ Machine Learning, 2022 Passout Can also apply',\n",
       " 'Hiring For Senior Data Scientist-Noida',\n",
       " 'Opening For Data Scientist',\n",
       " 'Lead Data Scientist',\n",
       " 'Data Scientist (freelance)',\n",
       " 'Senior Data Scientist',\n",
       " 'Data Scientist',\n",
       " 'Data Scientist',\n",
       " 'Urgent Requirement || Data Scientist || Noida',\n",
       " 'AM Data Scientist - Goods & Service Tax Network, Delhi']"
      ]
     },
     "execution_count": 40,
     "metadata": {},
     "output_type": "execute_result"
    }
   ],
   "source": [
    "for i in title_tag:\n",
    "    title=i.text\n",
    "    job_title.append(title)\n",
    "job_title[0:10]"
   ]
  },
  {
   "cell_type": "markdown",
   "id": "a22706c4",
   "metadata": {},
   "source": [
    "# Job Location"
   ]
  },
  {
   "cell_type": "markdown",
   "id": "a11d496f",
   "metadata": {},
   "source": [
    "To Find all tags with Job Location"
   ]
  },
  {
   "cell_type": "code",
   "execution_count": 41,
   "id": "be02f119",
   "metadata": {},
   "outputs": [
    {
     "data": {
      "text/plain": [
       "[<selenium.webdriver.remote.webelement.WebElement (session=\"c999dc6c653a2cdde79c6833a7ffa0f5\", element=\"5b1e7f5f-80a7-4daf-a6d8-b43ca38337cf\")>,\n",
       " <selenium.webdriver.remote.webelement.WebElement (session=\"c999dc6c653a2cdde79c6833a7ffa0f5\", element=\"a898b5a7-ce47-4205-8797-af4827924eea\")>,\n",
       " <selenium.webdriver.remote.webelement.WebElement (session=\"c999dc6c653a2cdde79c6833a7ffa0f5\", element=\"1f8a7aa9-888a-4a8c-99ba-50b915f198a0\")>,\n",
       " <selenium.webdriver.remote.webelement.WebElement (session=\"c999dc6c653a2cdde79c6833a7ffa0f5\", element=\"415236e2-4af3-4374-8cc9-fbea1520da61\")>,\n",
       " <selenium.webdriver.remote.webelement.WebElement (session=\"c999dc6c653a2cdde79c6833a7ffa0f5\", element=\"6a9b5f4c-d9f8-442c-95ed-b6f679602707\")>,\n",
       " <selenium.webdriver.remote.webelement.WebElement (session=\"c999dc6c653a2cdde79c6833a7ffa0f5\", element=\"443ad866-7c22-43d7-8245-d951abbeefeb\")>,\n",
       " <selenium.webdriver.remote.webelement.WebElement (session=\"c999dc6c653a2cdde79c6833a7ffa0f5\", element=\"dc9d6aec-c83e-438c-a315-a753b4b65469\")>,\n",
       " <selenium.webdriver.remote.webelement.WebElement (session=\"c999dc6c653a2cdde79c6833a7ffa0f5\", element=\"392ce1ec-7f6d-4883-8a2f-0154d14c37de\")>,\n",
       " <selenium.webdriver.remote.webelement.WebElement (session=\"c999dc6c653a2cdde79c6833a7ffa0f5\", element=\"cfbb0ac6-923c-4744-876a-2c6d93934269\")>,\n",
       " <selenium.webdriver.remote.webelement.WebElement (session=\"c999dc6c653a2cdde79c6833a7ffa0f5\", element=\"24e9b246-8917-47d7-880e-d15e75823781\")>]"
      ]
     },
     "execution_count": 41,
     "metadata": {},
     "output_type": "execute_result"
    }
   ],
   "source": [
    "location_tag= driver.find_elements_by_xpath(\"//li[@class='fleft grey-text br2 placeHolderLi location']/span[1]\")\n",
    "location_tag[0:10]"
   ]
  },
  {
   "cell_type": "markdown",
   "id": "374b1e37",
   "metadata": {},
   "source": [
    "We will scrap the location details from the tag"
   ]
  },
  {
   "cell_type": "code",
   "execution_count": 42,
   "id": "39f5bd24",
   "metadata": {},
   "outputs": [
    {
     "data": {
      "text/plain": [
       "['Hyderabad/Secunderabad, Ahmedabad, Chennai, Bangalore/Bengaluru, Delhi / NCR, Mumbai (All Areas)',\n",
       " 'Noida, Greater Noida, Delhi / NCR',\n",
       " 'Gurgaon/Gurugram',\n",
       " 'Gurgaon/Gurugram',\n",
       " 'New Delhi, Delhi',\n",
       " 'Noida',\n",
       " 'Gurgaon, Bengaluru',\n",
       " 'New Delhi',\n",
       " 'Noida, Delhi / NCR',\n",
       " 'Delhi / NCR']"
      ]
     },
     "execution_count": 42,
     "metadata": {},
     "output_type": "execute_result"
    }
   ],
   "source": [
    "\n",
    "for i in location_tag:\n",
    "    location=i.text\n",
    "    job_location.append(location)\n",
    "    \n",
    "job_location[0:10]"
   ]
  },
  {
   "cell_type": "markdown",
   "id": "bf07e62d",
   "metadata": {},
   "source": [
    "# Company Name"
   ]
  },
  {
   "cell_type": "markdown",
   "id": "e2ee25ce",
   "metadata": {},
   "source": [
    "To Find all tags with company name"
   ]
  },
  {
   "cell_type": "code",
   "execution_count": 43,
   "id": "2e7428a8",
   "metadata": {},
   "outputs": [
    {
     "data": {
      "text/plain": [
       "[<selenium.webdriver.remote.webelement.WebElement (session=\"c999dc6c653a2cdde79c6833a7ffa0f5\", element=\"e720ff0c-bc6f-4034-a0d1-12ccf035a099\")>,\n",
       " <selenium.webdriver.remote.webelement.WebElement (session=\"c999dc6c653a2cdde79c6833a7ffa0f5\", element=\"371f6669-ad8c-4b26-b19d-c0861cceddf4\")>,\n",
       " <selenium.webdriver.remote.webelement.WebElement (session=\"c999dc6c653a2cdde79c6833a7ffa0f5\", element=\"5e5d605c-15a5-4285-96f6-0c5a2a758b0a\")>,\n",
       " <selenium.webdriver.remote.webelement.WebElement (session=\"c999dc6c653a2cdde79c6833a7ffa0f5\", element=\"2f427e14-b9fc-47c9-bf70-cb515a66ea0a\")>,\n",
       " <selenium.webdriver.remote.webelement.WebElement (session=\"c999dc6c653a2cdde79c6833a7ffa0f5\", element=\"a18b1edb-0cfe-4a5c-9408-05702df93955\")>,\n",
       " <selenium.webdriver.remote.webelement.WebElement (session=\"c999dc6c653a2cdde79c6833a7ffa0f5\", element=\"979fc145-1729-4dd6-96c8-c06cb6f543b6\")>,\n",
       " <selenium.webdriver.remote.webelement.WebElement (session=\"c999dc6c653a2cdde79c6833a7ffa0f5\", element=\"d71c4e7a-2693-4a58-833b-347eb45204cd\")>,\n",
       " <selenium.webdriver.remote.webelement.WebElement (session=\"c999dc6c653a2cdde79c6833a7ffa0f5\", element=\"932471c7-2e33-4dd0-8a5a-1e2179c12a1a\")>,\n",
       " <selenium.webdriver.remote.webelement.WebElement (session=\"c999dc6c653a2cdde79c6833a7ffa0f5\", element=\"a0942bab-43c4-47c2-abee-6997334b4b91\")>,\n",
       " <selenium.webdriver.remote.webelement.WebElement (session=\"c999dc6c653a2cdde79c6833a7ffa0f5\", element=\"1e7dd3b4-7d4a-4cc3-bad3-8401787e3924\")>]"
      ]
     },
     "execution_count": 43,
     "metadata": {},
     "output_type": "execute_result"
    }
   ],
   "source": [
    "company_tag= driver.find_elements_by_xpath(\"//a[@class='subTitle ellipsis fleft']\")\n",
    "company_tag[0:10]"
   ]
  },
  {
   "cell_type": "markdown",
   "id": "0be0c569",
   "metadata": {},
   "source": [
    "Now we will take only the company name text from it."
   ]
  },
  {
   "cell_type": "code",
   "execution_count": 44,
   "id": "1b2c3f03",
   "metadata": {},
   "outputs": [
    {
     "data": {
      "text/plain": [
       "['Creative Hands HR Consultancy',\n",
       " 'Lumiq.ai',\n",
       " 'Care Health Insurance',\n",
       " 'KIA INDIA PRIVATE LIMITED',\n",
       " '2Coms',\n",
       " 'Optum',\n",
       " 'BlackBuck',\n",
       " 'Boston Consulting Group',\n",
       " 'HCL Technologies',\n",
       " 'NISG (National Institute for Smart Government)']"
      ]
     },
     "execution_count": 44,
     "metadata": {},
     "output_type": "execute_result"
    }
   ],
   "source": [
    "for i in company_tag:\n",
    "    company=i.text\n",
    "    company_name.append(company)\n",
    "    \n",
    "company_name[0:10]"
   ]
  },
  {
   "cell_type": "markdown",
   "id": "1f8c0f7a",
   "metadata": {},
   "source": [
    "# Experience Required"
   ]
  },
  {
   "cell_type": "markdown",
   "id": "06793fea",
   "metadata": {},
   "source": [
    "To Find all tags with experience "
   ]
  },
  {
   "cell_type": "code",
   "execution_count": 45,
   "id": "ea7759ad",
   "metadata": {},
   "outputs": [
    {
     "data": {
      "text/plain": [
       "[<selenium.webdriver.remote.webelement.WebElement (session=\"c999dc6c653a2cdde79c6833a7ffa0f5\", element=\"304cfe76-685e-4efe-9729-54381c50e5ed\")>,\n",
       " <selenium.webdriver.remote.webelement.WebElement (session=\"c999dc6c653a2cdde79c6833a7ffa0f5\", element=\"c9aa7081-f2d8-468e-b3aa-4526235c5587\")>,\n",
       " <selenium.webdriver.remote.webelement.WebElement (session=\"c999dc6c653a2cdde79c6833a7ffa0f5\", element=\"2000cc7d-acc2-4f55-9725-bf66b0507a85\")>,\n",
       " <selenium.webdriver.remote.webelement.WebElement (session=\"c999dc6c653a2cdde79c6833a7ffa0f5\", element=\"f672c556-a1ee-4ef2-9445-8482a8b90a19\")>,\n",
       " <selenium.webdriver.remote.webelement.WebElement (session=\"c999dc6c653a2cdde79c6833a7ffa0f5\", element=\"331dd737-69f9-40c6-91fa-43a070152a64\")>,\n",
       " <selenium.webdriver.remote.webelement.WebElement (session=\"c999dc6c653a2cdde79c6833a7ffa0f5\", element=\"f9094e6f-ee04-484d-aa80-cb11ecfe04ef\")>,\n",
       " <selenium.webdriver.remote.webelement.WebElement (session=\"c999dc6c653a2cdde79c6833a7ffa0f5\", element=\"965b5ea2-e2e5-4f7c-8473-a98dbab3a8e8\")>,\n",
       " <selenium.webdriver.remote.webelement.WebElement (session=\"c999dc6c653a2cdde79c6833a7ffa0f5\", element=\"9995623e-609e-431c-85eb-a935fe2073bd\")>,\n",
       " <selenium.webdriver.remote.webelement.WebElement (session=\"c999dc6c653a2cdde79c6833a7ffa0f5\", element=\"9003b526-1b79-4c5b-b84e-0bd99b4dc1c5\")>,\n",
       " <selenium.webdriver.remote.webelement.WebElement (session=\"c999dc6c653a2cdde79c6833a7ffa0f5\", element=\"7d1f408e-a404-46bf-9980-05808f786be2\")>]"
      ]
     },
     "execution_count": 45,
     "metadata": {},
     "output_type": "execute_result"
    }
   ],
   "source": [
    "experience_tag= driver.find_elements_by_xpath(\"//li[@class='fleft grey-text br2 placeHolderLi experience']/span[1]\")\n",
    "experience_tag[0:10]"
   ]
  },
  {
   "cell_type": "markdown",
   "id": "1b2815e8",
   "metadata": {},
   "source": [
    "Now we will scrap the experience required from the tag"
   ]
  },
  {
   "cell_type": "code",
   "execution_count": 46,
   "id": "52e915a6",
   "metadata": {},
   "outputs": [
    {
     "data": {
      "text/plain": [
       "['0-4 Yrs',\n",
       " '2-6 Yrs',\n",
       " '1-5 Yrs',\n",
       " '7-10 Yrs',\n",
       " '2-7 Yrs',\n",
       " '2-7 Yrs',\n",
       " '3-7 Yrs',\n",
       " '2-5 Yrs',\n",
       " '3-8 Yrs',\n",
       " '3-8 Yrs']"
      ]
     },
     "execution_count": 46,
     "metadata": {},
     "output_type": "execute_result"
    }
   ],
   "source": [
    " for i in experience_tag:\n",
    "    experience=i.text\n",
    "    experience_required.append(experience)\n",
    "    \n",
    "experience_required[0:10]"
   ]
  },
  {
   "cell_type": "code",
   "execution_count": 47,
   "id": "29cf127c",
   "metadata": {},
   "outputs": [],
   "source": [
    "experience=experience_required[0:20]"
   ]
  },
  {
   "cell_type": "markdown",
   "id": "fc8b09d3",
   "metadata": {},
   "source": [
    "Check The Length of the lists before storing in a dataframe"
   ]
  },
  {
   "cell_type": "code",
   "execution_count": 48,
   "id": "eef24735",
   "metadata": {},
   "outputs": [
    {
     "name": "stdout",
     "output_type": "stream",
     "text": [
      "20 20 20 20\n"
     ]
    }
   ],
   "source": [
    "print(len(job_title), len(job_location), len(company_name), len(experience))"
   ]
  },
  {
   "cell_type": "markdown",
   "id": "763d7c1b",
   "metadata": {},
   "source": [
    "# Make Dataframe"
   ]
  },
  {
   "cell_type": "code",
   "execution_count": 49,
   "id": "6ce5014c",
   "metadata": {},
   "outputs": [
    {
     "data": {
      "text/html": [
       "<div>\n",
       "<style scoped>\n",
       "    .dataframe tbody tr th:only-of-type {\n",
       "        vertical-align: middle;\n",
       "    }\n",
       "\n",
       "    .dataframe tbody tr th {\n",
       "        vertical-align: top;\n",
       "    }\n",
       "\n",
       "    .dataframe thead th {\n",
       "        text-align: right;\n",
       "    }\n",
       "</style>\n",
       "<table border=\"1\" class=\"dataframe\">\n",
       "  <thead>\n",
       "    <tr style=\"text-align: right;\">\n",
       "      <th></th>\n",
       "      <th>Job_Title</th>\n",
       "      <th>Job_Location</th>\n",
       "      <th>Company_Name</th>\n",
       "      <th>Experience_Required</th>\n",
       "    </tr>\n",
       "  </thead>\n",
       "  <tbody>\n",
       "    <tr>\n",
       "      <th>0</th>\n",
       "      <td>Data Scientist/ Machine Learning, 2022 Passout...</td>\n",
       "      <td>Hyderabad/Secunderabad, Ahmedabad, Chennai, Ba...</td>\n",
       "      <td>Creative Hands HR Consultancy</td>\n",
       "      <td>0-4 Yrs</td>\n",
       "    </tr>\n",
       "    <tr>\n",
       "      <th>1</th>\n",
       "      <td>Hiring For Senior Data Scientist-Noida</td>\n",
       "      <td>Noida, Greater Noida, Delhi / NCR</td>\n",
       "      <td>Lumiq.ai</td>\n",
       "      <td>2-6 Yrs</td>\n",
       "    </tr>\n",
       "    <tr>\n",
       "      <th>2</th>\n",
       "      <td>Opening For Data Scientist</td>\n",
       "      <td>Gurgaon/Gurugram</td>\n",
       "      <td>Care Health Insurance</td>\n",
       "      <td>1-5 Yrs</td>\n",
       "    </tr>\n",
       "    <tr>\n",
       "      <th>3</th>\n",
       "      <td>Lead Data Scientist</td>\n",
       "      <td>Gurgaon/Gurugram</td>\n",
       "      <td>KIA INDIA PRIVATE LIMITED</td>\n",
       "      <td>7-10 Yrs</td>\n",
       "    </tr>\n",
       "    <tr>\n",
       "      <th>4</th>\n",
       "      <td>Data Scientist (freelance)</td>\n",
       "      <td>New Delhi, Delhi</td>\n",
       "      <td>2Coms</td>\n",
       "      <td>2-7 Yrs</td>\n",
       "    </tr>\n",
       "    <tr>\n",
       "      <th>5</th>\n",
       "      <td>Senior Data Scientist</td>\n",
       "      <td>Noida</td>\n",
       "      <td>Optum</td>\n",
       "      <td>2-7 Yrs</td>\n",
       "    </tr>\n",
       "    <tr>\n",
       "      <th>6</th>\n",
       "      <td>Data Scientist</td>\n",
       "      <td>Gurgaon, Bengaluru</td>\n",
       "      <td>BlackBuck</td>\n",
       "      <td>3-7 Yrs</td>\n",
       "    </tr>\n",
       "    <tr>\n",
       "      <th>7</th>\n",
       "      <td>Data Scientist</td>\n",
       "      <td>New Delhi</td>\n",
       "      <td>Boston Consulting Group</td>\n",
       "      <td>2-5 Yrs</td>\n",
       "    </tr>\n",
       "    <tr>\n",
       "      <th>8</th>\n",
       "      <td>Urgent Requirement || Data Scientist || Noida</td>\n",
       "      <td>Noida, Delhi / NCR</td>\n",
       "      <td>HCL Technologies</td>\n",
       "      <td>3-8 Yrs</td>\n",
       "    </tr>\n",
       "    <tr>\n",
       "      <th>9</th>\n",
       "      <td>AM Data Scientist - Goods &amp; Service Tax Networ...</td>\n",
       "      <td>Delhi / NCR</td>\n",
       "      <td>NISG (National Institute for Smart Government)</td>\n",
       "      <td>3-8 Yrs</td>\n",
       "    </tr>\n",
       "  </tbody>\n",
       "</table>\n",
       "</div>"
      ],
      "text/plain": [
       "                                           Job_Title  \\\n",
       "0  Data Scientist/ Machine Learning, 2022 Passout...   \n",
       "1             Hiring For Senior Data Scientist-Noida   \n",
       "2                         Opening For Data Scientist   \n",
       "3                                Lead Data Scientist   \n",
       "4                         Data Scientist (freelance)   \n",
       "5                              Senior Data Scientist   \n",
       "6                                     Data Scientist   \n",
       "7                                     Data Scientist   \n",
       "8      Urgent Requirement || Data Scientist || Noida   \n",
       "9  AM Data Scientist - Goods & Service Tax Networ...   \n",
       "\n",
       "                                        Job_Location  \\\n",
       "0  Hyderabad/Secunderabad, Ahmedabad, Chennai, Ba...   \n",
       "1                  Noida, Greater Noida, Delhi / NCR   \n",
       "2                                   Gurgaon/Gurugram   \n",
       "3                                   Gurgaon/Gurugram   \n",
       "4                                   New Delhi, Delhi   \n",
       "5                                              Noida   \n",
       "6                                 Gurgaon, Bengaluru   \n",
       "7                                          New Delhi   \n",
       "8                                 Noida, Delhi / NCR   \n",
       "9                                        Delhi / NCR   \n",
       "\n",
       "                                     Company_Name Experience_Required  \n",
       "0                   Creative Hands HR Consultancy             0-4 Yrs  \n",
       "1                                        Lumiq.ai             2-6 Yrs  \n",
       "2                           Care Health Insurance             1-5 Yrs  \n",
       "3                       KIA INDIA PRIVATE LIMITED            7-10 Yrs  \n",
       "4                                           2Coms             2-7 Yrs  \n",
       "5                                           Optum             2-7 Yrs  \n",
       "6                                       BlackBuck             3-7 Yrs  \n",
       "7                         Boston Consulting Group             2-5 Yrs  \n",
       "8                                HCL Technologies             3-8 Yrs  \n",
       "9  NISG (National Institute for Smart Government)             3-8 Yrs  "
      ]
     },
     "execution_count": 49,
     "metadata": {},
     "output_type": "execute_result"
    }
   ],
   "source": [
    "df=pd.DataFrame({'Job_Title': job_title, \n",
    "                 'Job_Location': job_location, \n",
    "                 'Company_Name': company_name, \n",
    "                 'Experience_Required': experience})\n",
    "df[0:10]"
   ]
  },
  {
   "cell_type": "code",
   "execution_count": 50,
   "id": "8718f785",
   "metadata": {},
   "outputs": [],
   "source": [
    "driver.close()"
   ]
  },
  {
   "cell_type": "markdown",
   "id": "43a11d80",
   "metadata": {},
   "source": [
    "# 4.Python Program to Scrape data of first 100 sunglasses listings on flipkart.com"
   ]
  },
  {
   "cell_type": "markdown",
   "id": "0b89372c",
   "metadata": {},
   "source": [
    "# Connect with webdriver"
   ]
  },
  {
   "cell_type": "code",
   "execution_count": 51,
   "id": "076171a6",
   "metadata": {},
   "outputs": [],
   "source": [
    "driver= webdriver.Chrome(r'C:\\Users\\user\\Downloads\\chromedriver_win32\\chromedriver.exe')\n"
   ]
  },
  {
   "cell_type": "code",
   "execution_count": 52,
   "id": "6b3a5ed8",
   "metadata": {},
   "outputs": [],
   "source": [
    "driver.get('https://www.flipkart.com/')"
   ]
  },
  {
   "cell_type": "code",
   "execution_count": 53,
   "id": "981b3250",
   "metadata": {},
   "outputs": [],
   "source": [
    "close_button=driver.find_element_by_xpath(\"/html/body/div[2]/div/div/button\")\n",
    "close_button.click()"
   ]
  },
  {
   "cell_type": "markdown",
   "id": "ca0ab299",
   "metadata": {},
   "source": [
    "# Finding Elements For Product Search"
   ]
  },
  {
   "cell_type": "code",
   "execution_count": 54,
   "id": "b92fe337",
   "metadata": {},
   "outputs": [],
   "source": [
    "search_field_products= driver.find_element_by_class_name(\"_3704LK\")\n",
    "search_field_products.send_keys(\"Sun Glasses\")\n"
   ]
  },
  {
   "cell_type": "markdown",
   "id": "961bd2a0",
   "metadata": {},
   "source": [
    "# Click Search Button"
   ]
  },
  {
   "cell_type": "code",
   "execution_count": 55,
   "id": "c9a55118",
   "metadata": {},
   "outputs": [],
   "source": [
    "search_icon=driver.find_element_by_xpath(\"/html/body/div[1]/div/div[1]/div[1]/div[2]/div[2]/form/div/button\")\n",
    "search_icon.click()"
   ]
  },
  {
   "cell_type": "code",
   "execution_count": 56,
   "id": "7bcb71be",
   "metadata": {},
   "outputs": [],
   "source": [
    "product_name=[]\n",
    "product_description=[]\n",
    "price=[]\n",
    "discount=[]"
   ]
  },
  {
   "cell_type": "markdown",
   "id": "295b427b",
   "metadata": {},
   "source": [
    "# Product Name, Description, Price, Discount"
   ]
  },
  {
   "cell_type": "markdown",
   "id": "1881e76f",
   "metadata": {},
   "source": [
    "To find all the tags with required elements"
   ]
  },
  {
   "cell_type": "code",
   "execution_count": 57,
   "id": "cdb6fb9d",
   "metadata": {},
   "outputs": [],
   "source": [
    "for i in range(3):\n",
    "    \n",
    "    product_tag= driver.find_elements_by_xpath(\"//div[@class='_2WkVRV']\")\n",
    "    description_tag= driver.find_elements_by_xpath(\"//a[@class='IRpwTa']\")\n",
    "    price_tag= driver.find_elements_by_xpath(\"//div[@class='_30jeq3']\")\n",
    "    discount_tag= driver.find_elements_by_xpath(\"//div[@class='_3Ay6Sb']/span[1]\")\n",
    "    for products in product_tag:\n",
    "        product_name.append(products.text)\n",
    "\n",
    "    for description in description_tag:\n",
    "        product_description.append(description.text)\n",
    "\n",
    "    for prices in price_tag:\n",
    "        price.append(prices.text)\n",
    "\n",
    "    for discounts in discount_tag:\n",
    "        discount.append(discounts.text)\n",
    "\n",
    "next_button=driver.find_element_by_xpath(\"/html/body/div[1]/div/div[3]/div[1]/div[2]/div[12]/div/div/nav/a[11]\")\n",
    "next_button.click()\n",
    "    \n",
    "    "
   ]
  },
  {
   "cell_type": "markdown",
   "id": "68330c3c",
   "metadata": {},
   "source": [
    "Check The Length"
   ]
  },
  {
   "cell_type": "code",
   "execution_count": 58,
   "id": "7faa1c88",
   "metadata": {},
   "outputs": [
    {
     "name": "stdout",
     "output_type": "stream",
     "text": [
      "120 120 120 120\n"
     ]
    }
   ],
   "source": [
    "print(len(product_name), len(product_description), len(price), len(discount))"
   ]
  },
  {
   "cell_type": "markdown",
   "id": "64c0e8fa",
   "metadata": {},
   "source": [
    "# Make Dataframe"
   ]
  },
  {
   "cell_type": "code",
   "execution_count": 59,
   "id": "8e6ca559",
   "metadata": {},
   "outputs": [
    {
     "data": {
      "text/html": [
       "<div>\n",
       "<style scoped>\n",
       "    .dataframe tbody tr th:only-of-type {\n",
       "        vertical-align: middle;\n",
       "    }\n",
       "\n",
       "    .dataframe tbody tr th {\n",
       "        vertical-align: top;\n",
       "    }\n",
       "\n",
       "    .dataframe thead th {\n",
       "        text-align: right;\n",
       "    }\n",
       "</style>\n",
       "<table border=\"1\" class=\"dataframe\">\n",
       "  <thead>\n",
       "    <tr style=\"text-align: right;\">\n",
       "      <th></th>\n",
       "      <th>Product_Name</th>\n",
       "      <th>Product_Description</th>\n",
       "      <th>Price</th>\n",
       "      <th>Discount</th>\n",
       "    </tr>\n",
       "  </thead>\n",
       "  <tbody>\n",
       "    <tr>\n",
       "      <th>0</th>\n",
       "      <td>PIRASO</td>\n",
       "      <td>UV Protection Rectangular Sunglasses (60)</td>\n",
       "      <td>₹399</td>\n",
       "      <td>84% off</td>\n",
       "    </tr>\n",
       "    <tr>\n",
       "      <th>1</th>\n",
       "      <td>PIRASO</td>\n",
       "      <td>UV Protection Rectangular Sunglasses (52)</td>\n",
       "      <td>₹280</td>\n",
       "      <td>89% off</td>\n",
       "    </tr>\n",
       "    <tr>\n",
       "      <th>2</th>\n",
       "      <td>SRPM</td>\n",
       "      <td>UV Protection Wayfarer Sunglasses (50)</td>\n",
       "      <td>₹249</td>\n",
       "      <td>80% off</td>\n",
       "    </tr>\n",
       "    <tr>\n",
       "      <th>3</th>\n",
       "      <td>Elligator</td>\n",
       "      <td>UV Protection Round Sunglasses (54)</td>\n",
       "      <td>₹295</td>\n",
       "      <td>88% off</td>\n",
       "    </tr>\n",
       "    <tr>\n",
       "      <th>4</th>\n",
       "      <td>New Specs</td>\n",
       "      <td>UV Protection Rectangular Sunglasses (Free Size)</td>\n",
       "      <td>₹269</td>\n",
       "      <td>89% off</td>\n",
       "    </tr>\n",
       "    <tr>\n",
       "      <th>...</th>\n",
       "      <td>...</td>\n",
       "      <td>...</td>\n",
       "      <td>...</td>\n",
       "      <td>...</td>\n",
       "    </tr>\n",
       "    <tr>\n",
       "      <th>95</th>\n",
       "      <td>PIRASO</td>\n",
       "      <td>UV Protection Over-sized Sunglasses (60)</td>\n",
       "      <td>₹375</td>\n",
       "      <td>85% off</td>\n",
       "    </tr>\n",
       "    <tr>\n",
       "      <th>96</th>\n",
       "      <td>Lee Topper</td>\n",
       "      <td>UV Protection Rectangular Sunglasses (Free Size)</td>\n",
       "      <td>₹199</td>\n",
       "      <td>80% off</td>\n",
       "    </tr>\n",
       "    <tr>\n",
       "      <th>97</th>\n",
       "      <td>SUNBEE</td>\n",
       "      <td>UV Protection, Polarized, Mirrored Round Sungl...</td>\n",
       "      <td>₹304</td>\n",
       "      <td>82% off</td>\n",
       "    </tr>\n",
       "    <tr>\n",
       "      <th>98</th>\n",
       "      <td>PIRASO</td>\n",
       "      <td>UV Protection Aviator Sunglasses (54)</td>\n",
       "      <td>₹225</td>\n",
       "      <td>85% off</td>\n",
       "    </tr>\n",
       "    <tr>\n",
       "      <th>99</th>\n",
       "      <td>PIRASO</td>\n",
       "      <td>UV Protection Retro Square Sunglasses (Free Size)</td>\n",
       "      <td>₹320</td>\n",
       "      <td>87% off</td>\n",
       "    </tr>\n",
       "  </tbody>\n",
       "</table>\n",
       "<p>100 rows × 4 columns</p>\n",
       "</div>"
      ],
      "text/plain": [
       "   Product_Name                                Product_Description Price  \\\n",
       "0        PIRASO          UV Protection Rectangular Sunglasses (60)  ₹399   \n",
       "1        PIRASO          UV Protection Rectangular Sunglasses (52)  ₹280   \n",
       "2          SRPM             UV Protection Wayfarer Sunglasses (50)  ₹249   \n",
       "3     Elligator                UV Protection Round Sunglasses (54)  ₹295   \n",
       "4     New Specs   UV Protection Rectangular Sunglasses (Free Size)  ₹269   \n",
       "..          ...                                                ...   ...   \n",
       "95       PIRASO           UV Protection Over-sized Sunglasses (60)  ₹375   \n",
       "96   Lee Topper   UV Protection Rectangular Sunglasses (Free Size)  ₹199   \n",
       "97       SUNBEE  UV Protection, Polarized, Mirrored Round Sungl...  ₹304   \n",
       "98       PIRASO              UV Protection Aviator Sunglasses (54)  ₹225   \n",
       "99       PIRASO  UV Protection Retro Square Sunglasses (Free Size)  ₹320   \n",
       "\n",
       "   Discount  \n",
       "0   84% off  \n",
       "1   89% off  \n",
       "2   80% off  \n",
       "3   88% off  \n",
       "4   89% off  \n",
       "..      ...  \n",
       "95  85% off  \n",
       "96  80% off  \n",
       "97  82% off  \n",
       "98  85% off  \n",
       "99  87% off  \n",
       "\n",
       "[100 rows x 4 columns]"
      ]
     },
     "execution_count": 59,
     "metadata": {},
     "output_type": "execute_result"
    }
   ],
   "source": [
    "df=pd.DataFrame({'Product_Name': product_name,\n",
    "                 'Product_Description': product_description,\n",
    "                 'Price':price, \n",
    "                 'Discount': discount})\n",
    "df[0:100]"
   ]
  },
  {
   "cell_type": "code",
   "execution_count": 60,
   "id": "939bfc8b",
   "metadata": {},
   "outputs": [],
   "source": [
    "driver.close()"
   ]
  },
  {
   "cell_type": "markdown",
   "id": "b7263cc0",
   "metadata": {},
   "source": [
    "# 5.Scrape 100 reviews data from flipkart.com for iphone11 phone"
   ]
  },
  {
   "cell_type": "markdown",
   "id": "f9e937f6",
   "metadata": {},
   "source": [
    "# Connect With The Driver"
   ]
  },
  {
   "cell_type": "code",
   "execution_count": 188,
   "id": "d760ccc1",
   "metadata": {},
   "outputs": [],
   "source": [
    "driver= webdriver.Chrome(r'C:\\Users\\user\\Downloads\\chromedriver_win32\\chromedriver.exe')\n"
   ]
  },
  {
   "cell_type": "code",
   "execution_count": 189,
   "id": "822aaf01",
   "metadata": {},
   "outputs": [],
   "source": [
    "url='https://www.flipkart.com/apple-iphone-11-black-64-gb-includes- earpods-power- adapter/p/itm0f37c2240b217?pid=MOBFKCTSVZAXUHGR&lid=LSTMOBFKC TSVZAXUHGREPBFGI&marketplace.'"
   ]
  },
  {
   "cell_type": "code",
   "execution_count": 190,
   "id": "bc68cccf",
   "metadata": {},
   "outputs": [],
   "source": [
    "driver.get(url)"
   ]
  },
  {
   "cell_type": "markdown",
   "id": "a247c371",
   "metadata": {},
   "source": [
    "Expand the Review page first"
   ]
  },
  {
   "cell_type": "code",
   "execution_count": 191,
   "id": "13e2a9a1",
   "metadata": {},
   "outputs": [],
   "source": [
    "expand_button=driver.find_element_by_xpath(\"/html/body/div[1]/div/div[3]/div[1]/div[2]/div[8]/div/div/div[5]/div/a/div/span\")\n",
    "expand_button.click()"
   ]
  },
  {
   "cell_type": "markdown",
   "id": "af847458",
   "metadata": {},
   "source": [
    "# TO Scrap the required tags and details"
   ]
  },
  {
   "cell_type": "code",
   "execution_count": 192,
   "id": "00808176",
   "metadata": {},
   "outputs": [],
   "source": [
    "ratings=[]\n",
    "review_summary=[]\n",
    "full_review=[]"
   ]
  },
  {
   "cell_type": "code",
   "execution_count": 193,
   "id": "ac0059fd",
   "metadata": {},
   "outputs": [],
   "source": [
    "for i in range(10):\n",
    "    rating_tag= driver.find_elements_by_xpath(\"//div[@class='_3LWZlK _1BLPMq']\") # TO Find full tag of ratings\n",
    "    review_summary_tag=driver.find_elements_by_xpath(\"//p[@class='_2-N8zT']\") # To Find the tags with summary of review\n",
    "    full_review_tag=driver.find_elements_by_xpath(\"//div[@class='t-ZTKy']\") # To Find the tags with full reviews\n",
    "    for rating in rating_tag:\n",
    "        ratings.append(rating.text)\n",
    "    for summary in review_summary_tag:\n",
    "        review_summary.append(summary.text)\n",
    "    for review in full_review_tag:\n",
    "        full_review.append(review.text)\n",
    "next_button=driver.find_element_by_xpath(\"//a[@class='_1LKTO3']\")\n",
    "next_button.click()\n"
   ]
  },
  {
   "cell_type": "code",
   "execution_count": 194,
   "id": "bbebd20e",
   "metadata": {},
   "outputs": [],
   "source": [
    "ratings= ratings[0:100]\n",
    "review_summary=review_summary[0:100]\n",
    "full_review=full_review[0:100]"
   ]
  },
  {
   "cell_type": "markdown",
   "id": "19dcb1fa",
   "metadata": {},
   "source": [
    "Check the length of the columns"
   ]
  },
  {
   "cell_type": "code",
   "execution_count": 195,
   "id": "5c4559bd",
   "metadata": {},
   "outputs": [
    {
     "name": "stdout",
     "output_type": "stream",
     "text": [
      "100 100 100\n"
     ]
    }
   ],
   "source": [
    "print(len(ratings), len(review_summary), len(full_review))"
   ]
  },
  {
   "cell_type": "markdown",
   "id": "50a17bc3",
   "metadata": {},
   "source": [
    "# Make Dataframe"
   ]
  },
  {
   "cell_type": "code",
   "execution_count": 196,
   "id": "129f04f6",
   "metadata": {},
   "outputs": [
    {
     "data": {
      "text/html": [
       "<div>\n",
       "<style scoped>\n",
       "    .dataframe tbody tr th:only-of-type {\n",
       "        vertical-align: middle;\n",
       "    }\n",
       "\n",
       "    .dataframe tbody tr th {\n",
       "        vertical-align: top;\n",
       "    }\n",
       "\n",
       "    .dataframe thead th {\n",
       "        text-align: right;\n",
       "    }\n",
       "</style>\n",
       "<table border=\"1\" class=\"dataframe\">\n",
       "  <thead>\n",
       "    <tr style=\"text-align: right;\">\n",
       "      <th></th>\n",
       "      <th>Ratings</th>\n",
       "      <th>Review_Summary</th>\n",
       "      <th>Full_Review</th>\n",
       "    </tr>\n",
       "  </thead>\n",
       "  <tbody>\n",
       "    <tr>\n",
       "      <th>0</th>\n",
       "      <td>5</td>\n",
       "      <td>Brilliant</td>\n",
       "      <td>The Best Phone for the Money\\n\\nThe iPhone 11 ...</td>\n",
       "    </tr>\n",
       "    <tr>\n",
       "      <th>1</th>\n",
       "      <td>5</td>\n",
       "      <td>Simply awesome</td>\n",
       "      <td>Really satisfied with the Product I received.....</td>\n",
       "    </tr>\n",
       "    <tr>\n",
       "      <th>2</th>\n",
       "      <td>5</td>\n",
       "      <td>Best in the market!</td>\n",
       "      <td>Great iPhone very snappy experience as apple k...</td>\n",
       "    </tr>\n",
       "    <tr>\n",
       "      <th>3</th>\n",
       "      <td>5</td>\n",
       "      <td>Perfect product!</td>\n",
       "      <td>Amazing phone with great cameras and better ba...</td>\n",
       "    </tr>\n",
       "    <tr>\n",
       "      <th>4</th>\n",
       "      <td>5</td>\n",
       "      <td>Fabulous!</td>\n",
       "      <td>This is my first iOS phone. I am very happy wi...</td>\n",
       "    </tr>\n",
       "    <tr>\n",
       "      <th>...</th>\n",
       "      <td>...</td>\n",
       "      <td>...</td>\n",
       "      <td>...</td>\n",
       "    </tr>\n",
       "    <tr>\n",
       "      <th>95</th>\n",
       "      <td>5</td>\n",
       "      <td>Worth every penny</td>\n",
       "      <td>Previously I was using one plus 3t it was a gr...</td>\n",
       "    </tr>\n",
       "    <tr>\n",
       "      <th>96</th>\n",
       "      <td>5</td>\n",
       "      <td>Great product</td>\n",
       "      <td>Amazing Powerful and Durable Gadget.\\n\\nI’m am...</td>\n",
       "    </tr>\n",
       "    <tr>\n",
       "      <th>97</th>\n",
       "      <td>4</td>\n",
       "      <td>Good choice</td>\n",
       "      <td>So far it’s been an AMAZING experience coming ...</td>\n",
       "    </tr>\n",
       "    <tr>\n",
       "      <th>98</th>\n",
       "      <td>5</td>\n",
       "      <td>Worth every penny</td>\n",
       "      <td>i11 is worthy to buy, too much happy with the ...</td>\n",
       "    </tr>\n",
       "    <tr>\n",
       "      <th>99</th>\n",
       "      <td>5</td>\n",
       "      <td>Highly recommended</td>\n",
       "      <td>What a camera .....just awesome ..you can feel...</td>\n",
       "    </tr>\n",
       "  </tbody>\n",
       "</table>\n",
       "<p>100 rows × 3 columns</p>\n",
       "</div>"
      ],
      "text/plain": [
       "   Ratings       Review_Summary  \\\n",
       "0        5            Brilliant   \n",
       "1        5       Simply awesome   \n",
       "2        5  Best in the market!   \n",
       "3        5     Perfect product!   \n",
       "4        5            Fabulous!   \n",
       "..     ...                  ...   \n",
       "95       5    Worth every penny   \n",
       "96       5        Great product   \n",
       "97       4          Good choice   \n",
       "98       5    Worth every penny   \n",
       "99       5   Highly recommended   \n",
       "\n",
       "                                          Full_Review  \n",
       "0   The Best Phone for the Money\\n\\nThe iPhone 11 ...  \n",
       "1   Really satisfied with the Product I received.....  \n",
       "2   Great iPhone very snappy experience as apple k...  \n",
       "3   Amazing phone with great cameras and better ba...  \n",
       "4   This is my first iOS phone. I am very happy wi...  \n",
       "..                                                ...  \n",
       "95  Previously I was using one plus 3t it was a gr...  \n",
       "96  Amazing Powerful and Durable Gadget.\\n\\nI’m am...  \n",
       "97  So far it’s been an AMAZING experience coming ...  \n",
       "98  i11 is worthy to buy, too much happy with the ...  \n",
       "99  What a camera .....just awesome ..you can feel...  \n",
       "\n",
       "[100 rows x 3 columns]"
      ]
     },
     "execution_count": 196,
     "metadata": {},
     "output_type": "execute_result"
    }
   ],
   "source": [
    "df=pd.DataFrame({'Ratings': ratings,\n",
    "                 'Review_Summary': review_summary, \n",
    "                 'Full_Review': full_review})\n",
    "df"
   ]
  },
  {
   "cell_type": "code",
   "execution_count": 197,
   "id": "1ce3852c",
   "metadata": {},
   "outputs": [],
   "source": [
    "driver.close()"
   ]
  },
  {
   "cell_type": "markdown",
   "id": "528f689f",
   "metadata": {},
   "source": [
    "# 6. Program To Scrape data for first 100 sneakers you find when you visit flipkart.com"
   ]
  },
  {
   "cell_type": "code",
   "execution_count": 198,
   "id": "9272a19f",
   "metadata": {},
   "outputs": [],
   "source": [
    "driver= webdriver.Chrome(r'C:\\Users\\user\\Downloads\\chromedriver_win32\\chromedriver.exe')\n"
   ]
  },
  {
   "cell_type": "code",
   "execution_count": 199,
   "id": "905e7ec4",
   "metadata": {},
   "outputs": [],
   "source": [
    "driver.get('https://www.flipkart.com/')"
   ]
  },
  {
   "cell_type": "code",
   "execution_count": 200,
   "id": "ed957110",
   "metadata": {},
   "outputs": [],
   "source": [
    "close_button=driver.find_element_by_xpath(\"/html/body/div[2]/div/div/button\")\n",
    "close_button.click()"
   ]
  },
  {
   "cell_type": "markdown",
   "id": "49d98906",
   "metadata": {},
   "source": [
    "# Finding elements"
   ]
  },
  {
   "cell_type": "code",
   "execution_count": 201,
   "id": "59fac0eb",
   "metadata": {},
   "outputs": [],
   "source": [
    "search_product= driver.find_element_by_class_name(\"_3704LK\")\n",
    "search_product.send_keys(\"Sneakers\")"
   ]
  },
  {
   "cell_type": "markdown",
   "id": "b9922c0b",
   "metadata": {},
   "source": [
    "# Search icon"
   ]
  },
  {
   "cell_type": "code",
   "execution_count": 202,
   "id": "321c0e81",
   "metadata": {},
   "outputs": [],
   "source": [
    "search_icon=driver.find_element_by_xpath(\"/html/body/div[1]/div/div[1]/div[1]/div[2]/div[2]/form/div/button\")\n",
    "search_icon.click()"
   ]
  },
  {
   "cell_type": "markdown",
   "id": "4a692988",
   "metadata": {},
   "source": [
    "# To find the tag and scrap the text out of it"
   ]
  },
  {
   "cell_type": "code",
   "execution_count": 203,
   "id": "919cd181",
   "metadata": {},
   "outputs": [],
   "source": [
    "brand=[]\n",
    "product_description=[]\n",
    "price=[]\n",
    "offer=[]"
   ]
  },
  {
   "cell_type": "code",
   "execution_count": 204,
   "id": "24ba752d",
   "metadata": {},
   "outputs": [],
   "source": [
    "for i in range(3):\n",
    "    brand_tag=driver.find_elements_by_xpath(\"//div[@class='_2WkVRV']\")\n",
    "    product_description_tag=driver.find_elements_by_xpath(\"//a[@class='IRpwTa']\")\n",
    "    price_tag=driver.find_elements_by_xpath(\"//div[@class='_30jeq3']\")\n",
    "    offer_tag=driver.find_elements_by_xpath(\"//div[@class='_3Ay6Sb']\")\n",
    "    \n",
    "    for brands in brand_tag:\n",
    "        brand.append(brands.text)\n",
    "    for description in product_description_tag:\n",
    "        product_description.append(description.text)\n",
    "    for prices in  price_tag:\n",
    "        price.append(prices.text)\n",
    "    for offers in offer_tag:\n",
    "        offer.append(offers.text)\n",
    "        \n",
    "next_button=driver.find_element_by_xpath(\"/html/body/div[1]/div/div[3]/div[1]/div[2]/div[12]/div/div/nav/a[11]\")\n",
    "next_button.click()"
   ]
  },
  {
   "cell_type": "code",
   "execution_count": 205,
   "id": "9467cd79",
   "metadata": {},
   "outputs": [],
   "source": [
    "brand=brand[0:100]\n",
    "product_description=product_description[0:100]\n",
    "price=price[0:100]\n",
    "offer=offer[0:100]"
   ]
  },
  {
   "cell_type": "markdown",
   "id": "11049fa0",
   "metadata": {},
   "source": [
    "# Check length of the columns"
   ]
  },
  {
   "cell_type": "code",
   "execution_count": 206,
   "id": "17487072",
   "metadata": {},
   "outputs": [
    {
     "name": "stdout",
     "output_type": "stream",
     "text": [
      "100 100 100 100\n"
     ]
    }
   ],
   "source": [
    "print(len(brand), len(product_description), len(price), len(offer))"
   ]
  },
  {
   "cell_type": "markdown",
   "id": "6164a28d",
   "metadata": {},
   "source": [
    "# Make DataFrame"
   ]
  },
  {
   "cell_type": "code",
   "execution_count": 207,
   "id": "c3ff2292",
   "metadata": {},
   "outputs": [
    {
     "data": {
      "text/html": [
       "<div>\n",
       "<style scoped>\n",
       "    .dataframe tbody tr th:only-of-type {\n",
       "        vertical-align: middle;\n",
       "    }\n",
       "\n",
       "    .dataframe tbody tr th {\n",
       "        vertical-align: top;\n",
       "    }\n",
       "\n",
       "    .dataframe thead th {\n",
       "        text-align: right;\n",
       "    }\n",
       "</style>\n",
       "<table border=\"1\" class=\"dataframe\">\n",
       "  <thead>\n",
       "    <tr style=\"text-align: right;\">\n",
       "      <th></th>\n",
       "      <th>Brand</th>\n",
       "      <th>Product_Description</th>\n",
       "      <th>Price</th>\n",
       "      <th>Offer</th>\n",
       "    </tr>\n",
       "  </thead>\n",
       "  <tbody>\n",
       "    <tr>\n",
       "      <th>0</th>\n",
       "      <td>white tape</td>\n",
       "      <td>Easy Vulc 2.0 Sneakers For Men</td>\n",
       "      <td>₹675</td>\n",
       "      <td>57% off</td>\n",
       "    </tr>\n",
       "    <tr>\n",
       "      <th>1</th>\n",
       "      <td>ADIDAS</td>\n",
       "      <td>Casual , Partywear Sneakers Shoes For Men's An...</td>\n",
       "      <td>₹1,982</td>\n",
       "      <td>50% off</td>\n",
       "    </tr>\n",
       "    <tr>\n",
       "      <th>2</th>\n",
       "      <td>D-SNEAKERZ</td>\n",
       "      <td>STYLISH MENS BLACK SNEAKER Sneakers For Men</td>\n",
       "      <td>₹299</td>\n",
       "      <td>54% off</td>\n",
       "    </tr>\n",
       "    <tr>\n",
       "      <th>3</th>\n",
       "      <td>URBANBOX</td>\n",
       "      <td>516 Trendy Star Perfect Sneakers For Men</td>\n",
       "      <td>₹198</td>\n",
       "      <td>80% off</td>\n",
       "    </tr>\n",
       "    <tr>\n",
       "      <th>4</th>\n",
       "      <td>corsac</td>\n",
       "      <td>Modern Trendy Sneakers Shoes Sneakers For Men</td>\n",
       "      <td>₹499</td>\n",
       "      <td>66% off</td>\n",
       "    </tr>\n",
       "    <tr>\n",
       "      <th>...</th>\n",
       "      <td>...</td>\n",
       "      <td>...</td>\n",
       "      <td>...</td>\n",
       "      <td>...</td>\n",
       "    </tr>\n",
       "    <tr>\n",
       "      <th>95</th>\n",
       "      <td>Layasa</td>\n",
       "      <td>Combo Pack Of 4 Casual Shoes Loafer Shoes Snea...</td>\n",
       "      <td>₹449</td>\n",
       "      <td>55% off</td>\n",
       "    </tr>\n",
       "    <tr>\n",
       "      <th>96</th>\n",
       "      <td>Chevit</td>\n",
       "      <td>Perfect Combo Pack of 03 Pairs Casual Sneakers...</td>\n",
       "      <td>₹649</td>\n",
       "      <td>59% off</td>\n",
       "    </tr>\n",
       "    <tr>\n",
       "      <th>97</th>\n",
       "      <td>KWIK FIT</td>\n",
       "      <td>Series 7 Sneakers For Men</td>\n",
       "      <td>₹397</td>\n",
       "      <td>80% off</td>\n",
       "    </tr>\n",
       "    <tr>\n",
       "      <th>98</th>\n",
       "      <td>Kraasa</td>\n",
       "      <td>Sneakers For Men</td>\n",
       "      <td>₹471</td>\n",
       "      <td>52% off</td>\n",
       "    </tr>\n",
       "    <tr>\n",
       "      <th>99</th>\n",
       "      <td>Layasa</td>\n",
       "      <td>Sneakers For Men</td>\n",
       "      <td>₹449</td>\n",
       "      <td>55% off</td>\n",
       "    </tr>\n",
       "  </tbody>\n",
       "</table>\n",
       "<p>100 rows × 4 columns</p>\n",
       "</div>"
      ],
      "text/plain": [
       "         Brand                                Product_Description   Price  \\\n",
       "0   white tape                     Easy Vulc 2.0 Sneakers For Men    ₹675   \n",
       "1       ADIDAS  Casual , Partywear Sneakers Shoes For Men's An...  ₹1,982   \n",
       "2   D-SNEAKERZ        STYLISH MENS BLACK SNEAKER Sneakers For Men    ₹299   \n",
       "3     URBANBOX           516 Trendy Star Perfect Sneakers For Men    ₹198   \n",
       "4       corsac      Modern Trendy Sneakers Shoes Sneakers For Men    ₹499   \n",
       "..         ...                                                ...     ...   \n",
       "95      Layasa  Combo Pack Of 4 Casual Shoes Loafer Shoes Snea...    ₹449   \n",
       "96      Chevit  Perfect Combo Pack of 03 Pairs Casual Sneakers...    ₹649   \n",
       "97    KWIK FIT                          Series 7 Sneakers For Men    ₹397   \n",
       "98      Kraasa                                   Sneakers For Men    ₹471   \n",
       "99      Layasa                                   Sneakers For Men    ₹449   \n",
       "\n",
       "      Offer  \n",
       "0   57% off  \n",
       "1   50% off  \n",
       "2   54% off  \n",
       "3   80% off  \n",
       "4   66% off  \n",
       "..      ...  \n",
       "95  55% off  \n",
       "96  59% off  \n",
       "97  80% off  \n",
       "98  52% off  \n",
       "99  55% off  \n",
       "\n",
       "[100 rows x 4 columns]"
      ]
     },
     "execution_count": 207,
     "metadata": {},
     "output_type": "execute_result"
    }
   ],
   "source": [
    "df=pd.DataFrame({'Brand': brand, \n",
    "                 'Product_Description': product_description,\n",
    "                 'Price': price,\n",
    "                 'Offer': offer})\n",
    "df"
   ]
  },
  {
   "cell_type": "code",
   "execution_count": 208,
   "id": "c0103458",
   "metadata": {},
   "outputs": [],
   "source": [
    "driver.close()"
   ]
  },
  {
   "cell_type": "markdown",
   "id": "5f65c40d",
   "metadata": {},
   "source": [
    "# 7. Program to scrape First 100 shoes with Brand and price filter"
   ]
  },
  {
   "cell_type": "markdown",
   "id": "d4169b29",
   "metadata": {},
   "source": [
    "# Connect With Driver"
   ]
  },
  {
   "cell_type": "code",
   "execution_count": 209,
   "id": "87ede1b7",
   "metadata": {},
   "outputs": [],
   "source": [
    "driver= webdriver.Chrome(r'C:\\Users\\user\\Downloads\\chromedriver_win32\\chromedriver.exe')\n"
   ]
  },
  {
   "cell_type": "code",
   "execution_count": 210,
   "id": "0aab5229",
   "metadata": {},
   "outputs": [],
   "source": [
    "url='https://www.myntra.com/shoes'"
   ]
  },
  {
   "cell_type": "code",
   "execution_count": 211,
   "id": "3a4b3b3e",
   "metadata": {},
   "outputs": [],
   "source": [
    "driver.get(url)"
   ]
  },
  {
   "cell_type": "markdown",
   "id": "d959002f",
   "metadata": {},
   "source": [
    "# To Click the price filter"
   ]
  },
  {
   "cell_type": "code",
   "execution_count": 212,
   "id": "9bf0357d",
   "metadata": {},
   "outputs": [],
   "source": [
    "search_price=driver.find_element_by_xpath(\"/html/body/div[2]/div/div[1]/main/div[3]/div[1]/section/div/div[5]/ul/li[2]/label\")\n",
    "search_price.click()"
   ]
  },
  {
   "cell_type": "markdown",
   "id": "0c3d5548",
   "metadata": {},
   "source": [
    "# To Click the color filter"
   ]
  },
  {
   "cell_type": "code",
   "execution_count": 213,
   "id": "ee56be54",
   "metadata": {},
   "outputs": [],
   "source": [
    "search_color=driver.find_element_by_xpath(\"/html/body/div[2]/div/div[1]/main/div[3]/div[1]/section/div/div[6]/ul/li[1]/label\")\n",
    "search_color.click()"
   ]
  },
  {
   "cell_type": "markdown",
   "id": "53099f43",
   "metadata": {},
   "source": [
    "# To Find Tag and scrap the text out of it"
   ]
  },
  {
   "cell_type": "code",
   "execution_count": 214,
   "id": "c2c51c78",
   "metadata": {},
   "outputs": [],
   "source": [
    "brand=[]\n",
    "product_description=[]\n",
    "price=[]"
   ]
  },
  {
   "cell_type": "code",
   "execution_count": 215,
   "id": "c8803976",
   "metadata": {},
   "outputs": [],
   "source": [
    "for i in range(3):   \n",
    "    brand_tag=driver.find_elements_by_xpath(\"//h3[@class='product-brand']\")\n",
    "    product_description_tag= driver.find_elements_by_xpath(\"//h4[@class='product-product']\")\n",
    "    price_tag=driver.find_elements_by_xpath(\"//div[@class='product-price']\")\n",
    "\n",
    "    for brands in brand_tag:\n",
    "        brand.append(brands.text)\n",
    "\n",
    "    for description in product_description_tag:\n",
    "        product_description.append(description.text)\n",
    "\n",
    "    for prices in price_tag:\n",
    "        price.append(prices.text.split()[1].replace('Rs.',''))\n",
    "        \n",
    "next_button=driver.find_element_by_xpath(\"/html/body/div[2]/div/div[1]/main/div[3]/div[2]/div/div[2]/section/div[2]/ul/li[12]/a\")\n",
    "next_button.click()"
   ]
  },
  {
   "cell_type": "markdown",
   "id": "605ac6b5",
   "metadata": {},
   "source": [
    "Check The Length of the columns"
   ]
  },
  {
   "cell_type": "code",
   "execution_count": 216,
   "id": "6564e40b",
   "metadata": {},
   "outputs": [
    {
     "name": "stdout",
     "output_type": "stream",
     "text": [
      "150 150 150\n"
     ]
    }
   ],
   "source": [
    "print(len(brand), len(product_description), len(price))"
   ]
  },
  {
   "cell_type": "markdown",
   "id": "c9800e52",
   "metadata": {},
   "source": [
    "# Make Dataframe"
   ]
  },
  {
   "cell_type": "code",
   "execution_count": 217,
   "id": "05339a05",
   "metadata": {},
   "outputs": [
    {
     "data": {
      "text/html": [
       "<div>\n",
       "<style scoped>\n",
       "    .dataframe tbody tr th:only-of-type {\n",
       "        vertical-align: middle;\n",
       "    }\n",
       "\n",
       "    .dataframe tbody tr th {\n",
       "        vertical-align: top;\n",
       "    }\n",
       "\n",
       "    .dataframe thead th {\n",
       "        text-align: right;\n",
       "    }\n",
       "</style>\n",
       "<table border=\"1\" class=\"dataframe\">\n",
       "  <thead>\n",
       "    <tr style=\"text-align: right;\">\n",
       "      <th></th>\n",
       "      <th>Brand</th>\n",
       "      <th>Product_description</th>\n",
       "      <th>Price</th>\n",
       "    </tr>\n",
       "  </thead>\n",
       "  <tbody>\n",
       "    <tr>\n",
       "      <th>0</th>\n",
       "      <td>ALDO</td>\n",
       "      <td>Men Leather Loafers</td>\n",
       "      <td>11199</td>\n",
       "    </tr>\n",
       "    <tr>\n",
       "      <th>1</th>\n",
       "      <td>ALDO</td>\n",
       "      <td>Men Leather Driving Shoes</td>\n",
       "      <td>9099</td>\n",
       "    </tr>\n",
       "    <tr>\n",
       "      <th>2</th>\n",
       "      <td>ALDO</td>\n",
       "      <td>Men Printed Sneakers</td>\n",
       "      <td>9099</td>\n",
       "    </tr>\n",
       "    <tr>\n",
       "      <th>3</th>\n",
       "      <td>ALDO</td>\n",
       "      <td>Men Woven Design Sneakers</td>\n",
       "      <td>13999</td>\n",
       "    </tr>\n",
       "    <tr>\n",
       "      <th>4</th>\n",
       "      <td>ALDO</td>\n",
       "      <td>Men Leather Loafers</td>\n",
       "      <td>11199</td>\n",
       "    </tr>\n",
       "    <tr>\n",
       "      <th>...</th>\n",
       "      <td>...</td>\n",
       "      <td>...</td>\n",
       "      <td>...</td>\n",
       "    </tr>\n",
       "    <tr>\n",
       "      <th>95</th>\n",
       "      <td>Puma</td>\n",
       "      <td>Men D Nitro WTR Running Shoes</td>\n",
       "      <td>11199</td>\n",
       "    </tr>\n",
       "    <tr>\n",
       "      <th>96</th>\n",
       "      <td>ALDO</td>\n",
       "      <td>Men Leather Formal Derbys</td>\n",
       "      <td>11899</td>\n",
       "    </tr>\n",
       "    <tr>\n",
       "      <th>97</th>\n",
       "      <td>Tommy Hilfiger</td>\n",
       "      <td>Men Solid Suede Sneakers</td>\n",
       "      <td>7199</td>\n",
       "    </tr>\n",
       "    <tr>\n",
       "      <th>98</th>\n",
       "      <td>PERFLY By Decathlon</td>\n",
       "      <td>Men Textile Badminton Shoes</td>\n",
       "      <td>9211</td>\n",
       "    </tr>\n",
       "    <tr>\n",
       "      <th>99</th>\n",
       "      <td>Bugatti</td>\n",
       "      <td>Men Walking Shoes</td>\n",
       "      <td>7199</td>\n",
       "    </tr>\n",
       "  </tbody>\n",
       "</table>\n",
       "<p>100 rows × 3 columns</p>\n",
       "</div>"
      ],
      "text/plain": [
       "                  Brand            Product_description  Price\n",
       "0                  ALDO            Men Leather Loafers  11199\n",
       "1                  ALDO      Men Leather Driving Shoes   9099\n",
       "2                  ALDO           Men Printed Sneakers   9099\n",
       "3                  ALDO      Men Woven Design Sneakers  13999\n",
       "4                  ALDO            Men Leather Loafers  11199\n",
       "..                  ...                            ...    ...\n",
       "95                 Puma  Men D Nitro WTR Running Shoes  11199\n",
       "96                 ALDO      Men Leather Formal Derbys  11899\n",
       "97       Tommy Hilfiger       Men Solid Suede Sneakers   7199\n",
       "98  PERFLY By Decathlon    Men Textile Badminton Shoes   9211\n",
       "99              Bugatti              Men Walking Shoes   7199\n",
       "\n",
       "[100 rows x 3 columns]"
      ]
     },
     "execution_count": 217,
     "metadata": {},
     "output_type": "execute_result"
    }
   ],
   "source": [
    "df= pd.DataFrame({'Brand': brand, \n",
    "                  'Product_description': product_description,\n",
    "                  'Price': price})\n",
    "df[0:100]"
   ]
  },
  {
   "cell_type": "code",
   "execution_count": 218,
   "id": "c812b28d",
   "metadata": {},
   "outputs": [],
   "source": [
    "driver.close()"
   ]
  },
  {
   "cell_type": "markdown",
   "id": "8769f274",
   "metadata": {},
   "source": [
    "# 8.Python Program to Scrap laptop details from amazon.in"
   ]
  },
  {
   "cell_type": "code",
   "execution_count": 102,
   "id": "5b38e169",
   "metadata": {},
   "outputs": [],
   "source": [
    "#from selenium.common.exceptions import NoSuchElementException"
   ]
  },
  {
   "cell_type": "code",
   "execution_count": 219,
   "id": "cd6a6a48",
   "metadata": {},
   "outputs": [],
   "source": [
    "driver= webdriver.Chrome(r'C:\\Users\\user\\Downloads\\chromedriver_win32\\chromedriver.exe')\n"
   ]
  },
  {
   "cell_type": "code",
   "execution_count": 220,
   "id": "0b68ecff",
   "metadata": {},
   "outputs": [],
   "source": [
    "driver.get('https://www.amazon.in/')"
   ]
  },
  {
   "cell_type": "markdown",
   "id": "3e9ab63e",
   "metadata": {},
   "source": [
    "# Finding Elements For Search"
   ]
  },
  {
   "cell_type": "code",
   "execution_count": 221,
   "id": "b12fb8da",
   "metadata": {},
   "outputs": [],
   "source": [
    "search_product= driver.find_element_by_xpath(\"//input[starts-with(@id,'twotabsearchtextbox')]\")\n",
    "search_product.send_keys(\"Laptops\")"
   ]
  },
  {
   "cell_type": "markdown",
   "id": "3567f799",
   "metadata": {},
   "source": [
    "# Find Search Icon"
   ]
  },
  {
   "cell_type": "code",
   "execution_count": 222,
   "id": "a2815be7",
   "metadata": {},
   "outputs": [],
   "source": [
    "search_product= driver.find_element_by_xpath(\"//input[starts-with(@id,'nav-search-submit-button')]\")\n",
    "search_product.click()"
   ]
  },
  {
   "cell_type": "markdown",
   "id": "03989d24",
   "metadata": {},
   "source": [
    "# To Click CPU Type Filter"
   ]
  },
  {
   "cell_type": "code",
   "execution_count": 223,
   "id": "ef0d35c2",
   "metadata": {},
   "outputs": [],
   "source": [
    "CPU_type1=driver.find_element_by_xpath(\"/html/body/div[2]/div[2]/div[1]/div[2]/div/div[3]/span/div[1]/div/div/div[6]/ul[4]/li[11]/span/a/span\")\n",
    "CPU_type1.click()"
   ]
  },
  {
   "cell_type": "markdown",
   "id": "31b70895",
   "metadata": {},
   "source": [
    "# To Find the title, price and ratings"
   ]
  },
  {
   "cell_type": "code",
   "execution_count": 224,
   "id": "35002140",
   "metadata": {},
   "outputs": [],
   "source": [
    "\n",
    "ratings=[]\n"
   ]
  },
  {
   "cell_type": "code",
   "execution_count": 225,
   "id": "60d48b3b",
   "metadata": {},
   "outputs": [
    {
     "data": {
      "text/plain": [
       "['HP Chromebook Intel Celeron N4020 35.6cm(14 inches) Micro-Edge, Touchscreen Laptop (4GB RAM/64GB eMMC/Chrome 64/UHD Graphics,1.49kg), 14a-ca0506TU, Mineral Silver',\n",
       " \"Lenovo IdeaPad 1 Intel Celeron N4020 11.6'' HD Laptop (4GB/256GB SSD/Windows 11/Office 2021/Platinum Grey/1.2Kg), 81VT009UIN\",\n",
       " \"Lenovo IdeaPad 3 Intel Celeron N4020 14'' HD Thin & Light Laptop (4GB/256GB SSD/Windows 11/MS Office 2021/Platinum Grey/1.5Kg), 81WH007KIN\",\n",
       " 'ASUS VivoBook 15 (2021), 15.6-inch (39.62 cm) HD, Dual Core Intel Celeron N4020, Thin and Light Laptop (4GB RAM/256GB SSD/Integrated Graphics/Windows 11 Home/Transparent Silver/1.8 Kg), X515MA-BR011W',\n",
       " 'HP Chromebook 14 Intel Celeron N4020-4GB SDRAM/64GB eMMC + 256GB Expandable Storage 14inch(35.6 cm) Thin & Light Touchscreen Laptop (Chrome OS/B&O/Google Assistant/BL Keyboard/1.46 kg),14a-na0003TU',\n",
       " 'HP Chromebook 14 Intel Celeron N4020-4GB SDRAM/64GB eMMC + 256GB Expandable Storage 14inch(35.6 cm) Thin & Light Touchscreen Laptop (Chrome OS/B&O/Google Assistant/BL Keyboard/1.46 kg),14a-na0002TU',\n",
       " \"Lenovo IdeaPad 3 Chromebook Intel Celeron N4020 14'' FHD Laptop (4GB/64GB eMMC/Chrome OS/Upto 10hr Battery/2W HD Speaker/Platinum Grey/1.4Kg), 82C1002EHA\",\n",
       " 'HP 14s-Intel Celeron N4500- 8GB RAM/256GB SSD 14 inch(35.6cm) HD, Micro-Edge Display (UHD Graphics/Alexa/Dual Speakers/Fast Charge/Win 11/MS Office), 14s- dq3032tu',\n",
       " 'AVITA SATUS ULTIMUS S111 NU14A1INC43PN-MB 14.1 FHD (35.81cms) Laptop (Intel Celeron N4020/4GB/128GB SSD/FHD Display/Windows 11 Home/ Intel UHD Graphics), Matt Black',\n",
       " 'Lenovo IdeaPad Slim 1 Intel Celeron N4020 11.6\" (29.46cm) HD Thin & Light Laptop (4GB/256 GB SSD/Windows 10/MS Office/Platinum Grey/1.2Kg), 81VT0071IN']"
      ]
     },
     "execution_count": 225,
     "metadata": {},
     "output_type": "execute_result"
    }
   ],
   "source": [
    "title=[]\n",
    "title_tag=driver.find_elements_by_xpath(\"//h2[@class='a-size-mini a-spacing-none a-color-base s-line-clamp-2']\")\n",
    "for i in title_tag:\n",
    "    title.append(i.text)\n",
    "title= title[0:10]\n",
    "title"
   ]
  },
  {
   "cell_type": "code",
   "execution_count": 226,
   "id": "35983593",
   "metadata": {},
   "outputs": [],
   "source": [
    "#ratings_tag=driver.find_elements_by_xpath(\"/html/body/div[2]/div[2]/div[1]/div[1]/div/span[3]/div[2]/div[18]/div/div/div/div/div/div/div/div[2]/div/div/div[2]/div/span[1]/span/a/i[1]\")  \n",
    "#ratings_tag.click()\n",
    "#time.sleep(3)"
   ]
  },
  {
   "cell_type": "code",
   "execution_count": 227,
   "id": "96c61566",
   "metadata": {},
   "outputs": [
    {
     "data": {
      "text/plain": [
       "[['₹29,490'],\n",
       " ['₹28,553'],\n",
       " ['₹28,301'],\n",
       " ['₹26,990'],\n",
       " ['₹25,590'],\n",
       " ['₹24,460'],\n",
       " ['₹21,990'],\n",
       " ['₹21,990'],\n",
       " ['₹29,899'],\n",
       " ['₹29,999']]"
      ]
     },
     "execution_count": 227,
     "metadata": {},
     "output_type": "execute_result"
    }
   ],
   "source": [
    "price=[]\n",
    "price_tag=driver.find_elements_by_xpath(\"//a[@class='a-size-base a-link-normal s-underline-text s-underline-link-text s-link-style a-text-normal']/span[1]\")\n",
    "for i in price_tag:\n",
    "    price.append(i.text.split())\n",
    "    \n",
    "price=price[0:10]\n",
    "price"
   ]
  },
  {
   "cell_type": "markdown",
   "id": "163254ec",
   "metadata": {},
   "source": [
    "Check The Length"
   ]
  },
  {
   "cell_type": "code",
   "execution_count": 228,
   "id": "afbe0d4a",
   "metadata": {},
   "outputs": [
    {
     "name": "stdout",
     "output_type": "stream",
     "text": [
      "10 10\n"
     ]
    }
   ],
   "source": [
    "print(len(title), len(price))"
   ]
  },
  {
   "cell_type": "markdown",
   "id": "73dbda18",
   "metadata": {},
   "source": [
    "# Make DataFrame"
   ]
  },
  {
   "cell_type": "code",
   "execution_count": 229,
   "id": "3894f83a",
   "metadata": {},
   "outputs": [
    {
     "data": {
      "text/html": [
       "<div>\n",
       "<style scoped>\n",
       "    .dataframe tbody tr th:only-of-type {\n",
       "        vertical-align: middle;\n",
       "    }\n",
       "\n",
       "    .dataframe tbody tr th {\n",
       "        vertical-align: top;\n",
       "    }\n",
       "\n",
       "    .dataframe thead th {\n",
       "        text-align: right;\n",
       "    }\n",
       "</style>\n",
       "<table border=\"1\" class=\"dataframe\">\n",
       "  <thead>\n",
       "    <tr style=\"text-align: right;\">\n",
       "      <th></th>\n",
       "      <th>Title</th>\n",
       "      <th>Price</th>\n",
       "    </tr>\n",
       "  </thead>\n",
       "  <tbody>\n",
       "    <tr>\n",
       "      <th>0</th>\n",
       "      <td>HP Chromebook Intel Celeron N4020 35.6cm(14 in...</td>\n",
       "      <td>[₹29,490]</td>\n",
       "    </tr>\n",
       "    <tr>\n",
       "      <th>1</th>\n",
       "      <td>Lenovo IdeaPad 1 Intel Celeron N4020 11.6'' HD...</td>\n",
       "      <td>[₹28,553]</td>\n",
       "    </tr>\n",
       "    <tr>\n",
       "      <th>2</th>\n",
       "      <td>Lenovo IdeaPad 3 Intel Celeron N4020 14'' HD T...</td>\n",
       "      <td>[₹28,301]</td>\n",
       "    </tr>\n",
       "    <tr>\n",
       "      <th>3</th>\n",
       "      <td>ASUS VivoBook 15 (2021), 15.6-inch (39.62 cm) ...</td>\n",
       "      <td>[₹26,990]</td>\n",
       "    </tr>\n",
       "    <tr>\n",
       "      <th>4</th>\n",
       "      <td>HP Chromebook 14 Intel Celeron N4020-4GB SDRAM...</td>\n",
       "      <td>[₹25,590]</td>\n",
       "    </tr>\n",
       "    <tr>\n",
       "      <th>5</th>\n",
       "      <td>HP Chromebook 14 Intel Celeron N4020-4GB SDRAM...</td>\n",
       "      <td>[₹24,460]</td>\n",
       "    </tr>\n",
       "    <tr>\n",
       "      <th>6</th>\n",
       "      <td>Lenovo IdeaPad 3 Chromebook Intel Celeron N402...</td>\n",
       "      <td>[₹21,990]</td>\n",
       "    </tr>\n",
       "    <tr>\n",
       "      <th>7</th>\n",
       "      <td>HP 14s-Intel Celeron N4500- 8GB RAM/256GB SSD ...</td>\n",
       "      <td>[₹21,990]</td>\n",
       "    </tr>\n",
       "    <tr>\n",
       "      <th>8</th>\n",
       "      <td>AVITA SATUS ULTIMUS S111 NU14A1INC43PN-MB 14.1...</td>\n",
       "      <td>[₹29,899]</td>\n",
       "    </tr>\n",
       "    <tr>\n",
       "      <th>9</th>\n",
       "      <td>Lenovo IdeaPad Slim 1 Intel Celeron N4020 11.6...</td>\n",
       "      <td>[₹29,999]</td>\n",
       "    </tr>\n",
       "  </tbody>\n",
       "</table>\n",
       "</div>"
      ],
      "text/plain": [
       "                                               Title      Price\n",
       "0  HP Chromebook Intel Celeron N4020 35.6cm(14 in...  [₹29,490]\n",
       "1  Lenovo IdeaPad 1 Intel Celeron N4020 11.6'' HD...  [₹28,553]\n",
       "2  Lenovo IdeaPad 3 Intel Celeron N4020 14'' HD T...  [₹28,301]\n",
       "3  ASUS VivoBook 15 (2021), 15.6-inch (39.62 cm) ...  [₹26,990]\n",
       "4  HP Chromebook 14 Intel Celeron N4020-4GB SDRAM...  [₹25,590]\n",
       "5  HP Chromebook 14 Intel Celeron N4020-4GB SDRAM...  [₹24,460]\n",
       "6  Lenovo IdeaPad 3 Chromebook Intel Celeron N402...  [₹21,990]\n",
       "7  HP 14s-Intel Celeron N4500- 8GB RAM/256GB SSD ...  [₹21,990]\n",
       "8  AVITA SATUS ULTIMUS S111 NU14A1INC43PN-MB 14.1...  [₹29,899]\n",
       "9  Lenovo IdeaPad Slim 1 Intel Celeron N4020 11.6...  [₹29,999]"
      ]
     },
     "execution_count": 229,
     "metadata": {},
     "output_type": "execute_result"
    }
   ],
   "source": [
    "df=pd.DataFrame({'Title': title, 'Price': price})\n",
    "df"
   ]
  },
  {
   "cell_type": "code",
   "execution_count": 230,
   "id": "f8a16570",
   "metadata": {},
   "outputs": [],
   "source": [
    "driver.close()"
   ]
  },
  {
   "cell_type": "markdown",
   "id": "9e30be91",
   "metadata": {},
   "source": [
    "# 9.python program to scrape data for first 10 job results for Data Scientist Designation in Noida from ambitionbox.com"
   ]
  },
  {
   "cell_type": "code",
   "execution_count": 231,
   "id": "72555a0c",
   "metadata": {},
   "outputs": [],
   "source": [
    "driver= webdriver.Chrome(r'C:\\Users\\user\\Downloads\\chromedriver_win32\\chromedriver.exe')"
   ]
  },
  {
   "cell_type": "code",
   "execution_count": 232,
   "id": "00d0666d",
   "metadata": {},
   "outputs": [],
   "source": [
    "driver.get('https://www.ambitionbox.com/')"
   ]
  },
  {
   "cell_type": "markdown",
   "id": "89a0e715",
   "metadata": {},
   "source": [
    "# Select Jobs Column"
   ]
  },
  {
   "cell_type": "code",
   "execution_count": 233,
   "id": "4474b316",
   "metadata": {},
   "outputs": [],
   "source": [
    "search_field_jobs= driver.find_element_by_xpath(\"//a[starts-with(@class,'link jobs')]\")\n",
    "search_field_jobs.click()"
   ]
  },
  {
   "cell_type": "markdown",
   "id": "e722eb1c",
   "metadata": {},
   "source": [
    "Select Designation"
   ]
  },
  {
   "cell_type": "code",
   "execution_count": 234,
   "id": "848f9614",
   "metadata": {},
   "outputs": [],
   "source": [
    "search_field_designation= driver.find_element_by_xpath(\"/html/body/div/div/div/div[2]/div[1]/div[1]/div/div/div/div/span/input\")\n",
    "search_field_designation.send_keys(\"Data Scientist\")"
   ]
  },
  {
   "cell_type": "code",
   "execution_count": 235,
   "id": "506f406e",
   "metadata": {},
   "outputs": [],
   "source": [
    "click_search=driver.find_element_by_xpath(\"/html/body/div/div/div/div[2]/div[1]/div[1]/div/div/div/div/span/div/div[2]/div[2]\")\n",
    "click_search.click()"
   ]
  },
  {
   "cell_type": "code",
   "execution_count": 236,
   "id": "75c44355",
   "metadata": {},
   "outputs": [],
   "source": [
    "url='https://www.ambitionbox.com/jobs/search?designation=data-scientist'"
   ]
  },
  {
   "cell_type": "code",
   "execution_count": 237,
   "id": "6098bd64",
   "metadata": {},
   "outputs": [],
   "source": [
    "driver.get(url)"
   ]
  },
  {
   "cell_type": "markdown",
   "id": "492d004c",
   "metadata": {},
   "source": [
    "Company_Name"
   ]
  },
  {
   "cell_type": "code",
   "execution_count": 238,
   "id": "87c0f27e",
   "metadata": {},
   "outputs": [
    {
     "data": {
      "text/plain": [
       "['Ericsson India Global Services Pvt. Ltd.',\n",
       " 'JP Morgan Chase',\n",
       " 'PFIZER LIMITED',\n",
       " 'Accenture Solutions Pvt Ltd',\n",
       " 'Concentrix Daksh Services India Private Limited.',\n",
       " 'Shell India Markets Private Limited',\n",
       " 'Sanofi India Ltd',\n",
       " 'IBM India Pvt. Limited',\n",
       " 'IBM India Pvt. Limited',\n",
       " 'Walmart Labs']"
      ]
     },
     "execution_count": 238,
     "metadata": {},
     "output_type": "execute_result"
    }
   ],
   "source": [
    "company_name=[]\n",
    "company_name_tag= driver.find_elements_by_xpath(\"//p[@class='company body-medium']\")\n",
    "for i in company_name_tag:\n",
    "    company_name.append(i.text)\n",
    "    \n",
    "company_name"
   ]
  },
  {
   "cell_type": "code",
   "execution_count": 239,
   "id": "7f714a22",
   "metadata": {},
   "outputs": [
    {
     "data": {
      "text/plain": [
       "['2d ago',\n",
       " '5d ago',\n",
       " '6d ago',\n",
       " '6d ago',\n",
       " '7d ago',\n",
       " '6d ago',\n",
       " '18d ago',\n",
       " '12d ago',\n",
       " '12d ago',\n",
       " '13d ago']"
      ]
     },
     "execution_count": 239,
     "metadata": {},
     "output_type": "execute_result"
    }
   ],
   "source": [
    "time=[]\n",
    "time_tag= driver.find_elements_by_xpath(\"//span[@class='body-small-l']\")\n",
    "for i in time_tag:\n",
    "    time.append(i.text)\n",
    "    \n",
    "time=time[0::2]\n",
    "time"
   ]
  },
  {
   "cell_type": "code",
   "execution_count": 240,
   "id": "5a9fea82",
   "metadata": {},
   "outputs": [
    {
     "data": {
      "text/plain": [
       "['4.2', '4.1', '4.1', '4.1', '4.1', '4.3', '4.5', '4.1', '4.1', '4.1']"
      ]
     },
     "execution_count": 240,
     "metadata": {},
     "output_type": "execute_result"
    }
   ],
   "source": [
    "ratings=[]\n",
    "ratings_tag=driver.find_elements_by_xpath(\"//span[@class='body-small']\")\n",
    "for i in ratings_tag:\n",
    "    ratings.append(i.text)\n",
    "    \n",
    "ratings"
   ]
  },
  {
   "cell_type": "markdown",
   "id": "384d08d6",
   "metadata": {},
   "source": [
    "Check The Length"
   ]
  },
  {
   "cell_type": "code",
   "execution_count": 241,
   "id": "c18b5263",
   "metadata": {},
   "outputs": [
    {
     "name": "stdout",
     "output_type": "stream",
     "text": [
      "10 10 10\n"
     ]
    }
   ],
   "source": [
    "print(len(company_name), len(time), len(ratings))"
   ]
  },
  {
   "cell_type": "markdown",
   "id": "606e0e6c",
   "metadata": {},
   "source": [
    "# Make DataFrame"
   ]
  },
  {
   "cell_type": "code",
   "execution_count": 242,
   "id": "955347c6",
   "metadata": {},
   "outputs": [
    {
     "data": {
      "text/html": [
       "<div>\n",
       "<style scoped>\n",
       "    .dataframe tbody tr th:only-of-type {\n",
       "        vertical-align: middle;\n",
       "    }\n",
       "\n",
       "    .dataframe tbody tr th {\n",
       "        vertical-align: top;\n",
       "    }\n",
       "\n",
       "    .dataframe thead th {\n",
       "        text-align: right;\n",
       "    }\n",
       "</style>\n",
       "<table border=\"1\" class=\"dataframe\">\n",
       "  <thead>\n",
       "    <tr style=\"text-align: right;\">\n",
       "      <th></th>\n",
       "      <th>Company_Name</th>\n",
       "      <th>Time _Ago</th>\n",
       "      <th>Ratings</th>\n",
       "    </tr>\n",
       "  </thead>\n",
       "  <tbody>\n",
       "    <tr>\n",
       "      <th>0</th>\n",
       "      <td>Ericsson India Global Services Pvt. Ltd.</td>\n",
       "      <td>2d ago</td>\n",
       "      <td>4.2</td>\n",
       "    </tr>\n",
       "    <tr>\n",
       "      <th>1</th>\n",
       "      <td>JP Morgan Chase</td>\n",
       "      <td>5d ago</td>\n",
       "      <td>4.1</td>\n",
       "    </tr>\n",
       "    <tr>\n",
       "      <th>2</th>\n",
       "      <td>PFIZER LIMITED</td>\n",
       "      <td>6d ago</td>\n",
       "      <td>4.1</td>\n",
       "    </tr>\n",
       "    <tr>\n",
       "      <th>3</th>\n",
       "      <td>Accenture Solutions Pvt Ltd</td>\n",
       "      <td>6d ago</td>\n",
       "      <td>4.1</td>\n",
       "    </tr>\n",
       "    <tr>\n",
       "      <th>4</th>\n",
       "      <td>Concentrix Daksh Services India Private Limited.</td>\n",
       "      <td>7d ago</td>\n",
       "      <td>4.1</td>\n",
       "    </tr>\n",
       "    <tr>\n",
       "      <th>5</th>\n",
       "      <td>Shell India Markets Private Limited</td>\n",
       "      <td>6d ago</td>\n",
       "      <td>4.3</td>\n",
       "    </tr>\n",
       "    <tr>\n",
       "      <th>6</th>\n",
       "      <td>Sanofi India Ltd</td>\n",
       "      <td>18d ago</td>\n",
       "      <td>4.5</td>\n",
       "    </tr>\n",
       "    <tr>\n",
       "      <th>7</th>\n",
       "      <td>IBM India Pvt. Limited</td>\n",
       "      <td>12d ago</td>\n",
       "      <td>4.1</td>\n",
       "    </tr>\n",
       "    <tr>\n",
       "      <th>8</th>\n",
       "      <td>IBM India Pvt. Limited</td>\n",
       "      <td>12d ago</td>\n",
       "      <td>4.1</td>\n",
       "    </tr>\n",
       "    <tr>\n",
       "      <th>9</th>\n",
       "      <td>Walmart Labs</td>\n",
       "      <td>13d ago</td>\n",
       "      <td>4.1</td>\n",
       "    </tr>\n",
       "  </tbody>\n",
       "</table>\n",
       "</div>"
      ],
      "text/plain": [
       "                                       Company_Name Time _Ago Ratings\n",
       "0          Ericsson India Global Services Pvt. Ltd.    2d ago     4.2\n",
       "1                                   JP Morgan Chase    5d ago     4.1\n",
       "2                                    PFIZER LIMITED    6d ago     4.1\n",
       "3                       Accenture Solutions Pvt Ltd    6d ago     4.1\n",
       "4  Concentrix Daksh Services India Private Limited.    7d ago     4.1\n",
       "5               Shell India Markets Private Limited    6d ago     4.3\n",
       "6                                  Sanofi India Ltd   18d ago     4.5\n",
       "7                            IBM India Pvt. Limited   12d ago     4.1\n",
       "8                            IBM India Pvt. Limited   12d ago     4.1\n",
       "9                                      Walmart Labs   13d ago     4.1"
      ]
     },
     "execution_count": 242,
     "metadata": {},
     "output_type": "execute_result"
    }
   ],
   "source": [
    "df=pd.DataFrame({'Company_Name': company_name,\n",
    "                 'Time _Ago': time,\n",
    "                 'Ratings': ratings})\n",
    "\n",
    "df"
   ]
  },
  {
   "cell_type": "code",
   "execution_count": 243,
   "id": "685796dd",
   "metadata": {},
   "outputs": [],
   "source": [
    "driver.close()"
   ]
  },
  {
   "cell_type": "markdown",
   "id": "53501aed",
   "metadata": {},
   "source": [
    "# 10.python program to scrape the salary data for Data Scientist designation from ambitionbox.com"
   ]
  },
  {
   "cell_type": "code",
   "execution_count": 244,
   "id": "bd34df46",
   "metadata": {},
   "outputs": [],
   "source": [
    "driver= webdriver.Chrome(r'C:\\Users\\user\\Downloads\\chromedriver_win32\\chromedriver.exe')"
   ]
  },
  {
   "cell_type": "code",
   "execution_count": 245,
   "id": "6b63a5bf",
   "metadata": {},
   "outputs": [],
   "source": [
    "driver.get('https://www.ambitionbox.com/')"
   ]
  },
  {
   "cell_type": "markdown",
   "id": "fb1a5209",
   "metadata": {},
   "source": [
    "# Select Salaries column"
   ]
  },
  {
   "cell_type": "code",
   "execution_count": 246,
   "id": "8b82ab44",
   "metadata": {},
   "outputs": [],
   "source": [
    "search_field_salaries= driver.find_element_by_xpath(\"//a[starts-with(@title,'Company Salaries')]\")\n",
    "search_field_salaries.click()"
   ]
  },
  {
   "cell_type": "markdown",
   "id": "98242032",
   "metadata": {},
   "source": [
    "Select Designation Column"
   ]
  },
  {
   "cell_type": "code",
   "execution_count": 249,
   "id": "35db18ab",
   "metadata": {},
   "outputs": [],
   "source": [
    "search_field_designation= driver.find_element_by_xpath(\"/html/body/div/div/div/main/section[1]/div[2]/div[1]/span/input\")\n",
    "search_field_designation.send_keys(\"Data Scientist\")"
   ]
  },
  {
   "cell_type": "code",
   "execution_count": 250,
   "id": "a0bce9c4",
   "metadata": {},
   "outputs": [],
   "source": [
    "click_designation=driver.find_element_by_xpath('/html/body/div/div/div/main/section[1]/div[2]/div[1]/span/div/div/div[1]/div')\n",
    "click_designation.click()"
   ]
  },
  {
   "cell_type": "markdown",
   "id": "a3ec3280",
   "metadata": {},
   "source": [
    "#     \n",
    "company_name"
   ]
  },
  {
   "cell_type": "code",
   "execution_count": 251,
   "id": "27e284de",
   "metadata": {},
   "outputs": [
    {
     "data": {
      "text/plain": [
       "['Walmart',\n",
       " 'Ab Inbev',\n",
       " 'Reliance Jio',\n",
       " 'ZS',\n",
       " 'Optum',\n",
       " 'Fractal Analytics',\n",
       " 'Tiger Analytics',\n",
       " 'UnitedHealth',\n",
       " 'Verizon',\n",
       " 'Ganit Business Solutions']"
      ]
     },
     "execution_count": 251,
     "metadata": {},
     "output_type": "execute_result"
    }
   ],
   "source": [
    "company_name=[]\n",
    "company_name_tag= driver.find_elements_by_xpath(\"//div[@class='name']/a\")\n",
    "for i in company_name_tag:\n",
    "    company_name.append(i.text)\n",
    "    \n",
    "company_name"
   ]
  },
  {
   "cell_type": "markdown",
   "id": "e19f1321",
   "metadata": {},
   "source": [
    "# Total_salary"
   ]
  },
  {
   "cell_type": "code",
   "execution_count": 252,
   "id": "0106d20e",
   "metadata": {},
   "outputs": [
    {
     "data": {
      "text/plain": [
       "['based on 11 salaries',\n",
       " 'based on 31 salaries',\n",
       " 'based on 10 salaries',\n",
       " 'based on 15 salaries',\n",
       " 'based on 28 salaries',\n",
       " 'based on 81 salaries',\n",
       " 'based on 46 salaries',\n",
       " 'based on 53 salaries',\n",
       " 'based on 14 salaries',\n",
       " 'based on 13 salaries']"
      ]
     },
     "execution_count": 252,
     "metadata": {},
     "output_type": "execute_result"
    }
   ],
   "source": [
    "total_salary=[]\n",
    "total_salary_tag= driver.find_elements_by_xpath(\"//div[@class='name']/span\")\n",
    "for i in total_salary_tag:\n",
    "    total_salary.append(i.text)\n",
    "    \n",
    "total_salary"
   ]
  },
  {
   "cell_type": "markdown",
   "id": "17ce53fc",
   "metadata": {},
   "source": [
    "# average_salary"
   ]
  },
  {
   "cell_type": "code",
   "execution_count": 253,
   "id": "3e2ac7d1",
   "metadata": {},
   "outputs": [
    {
     "data": {
      "text/plain": [
       "['₹ 29.7L',\n",
       " '₹ 20.5L',\n",
       " '₹ 18.9L',\n",
       " '₹ 15.9L',\n",
       " '₹ 15.4L',\n",
       " '₹ 15.1L',\n",
       " '₹ 14.8L',\n",
       " '₹ 14.0L',\n",
       " '₹ 12.7L',\n",
       " '₹ 12.4L']"
      ]
     },
     "execution_count": 253,
     "metadata": {},
     "output_type": "execute_result"
    }
   ],
   "source": [
    "average_salary=[]\n",
    "average_salary_tag= driver.find_elements_by_xpath(\"//p[@class='averageCtc']\")\n",
    "for i in average_salary_tag:\n",
    "    average_salary.append(i.text)\n",
    "    \n",
    "average_salary"
   ]
  },
  {
   "cell_type": "markdown",
   "id": "4694d37d",
   "metadata": {},
   "source": [
    "salary"
   ]
  },
  {
   "cell_type": "code",
   "execution_count": 254,
   "id": "98292a32",
   "metadata": {},
   "outputs": [
    {
     "data": {
      "text/plain": [
       "['₹ 25.0L',\n",
       " '₹ 35.0L',\n",
       " '₹ 15.0L',\n",
       " '₹ 25.5L',\n",
       " '₹ 5.6L',\n",
       " '₹ 26.2L',\n",
       " '₹ 9.8L',\n",
       " '₹ 20.0L',\n",
       " '₹ 11.0L',\n",
       " '₹ 22.4L',\n",
       " '₹ 9.5L',\n",
       " '₹ 22.0L',\n",
       " '₹ 9.0L',\n",
       " '₹ 20.0L',\n",
       " '₹ 8.3L',\n",
       " '₹ 20.5L',\n",
       " '₹ 10.0L',\n",
       " '₹ 21.0L',\n",
       " '₹ 8.5L',\n",
       " '₹ 15.0L']"
      ]
     },
     "execution_count": 254,
     "metadata": {},
     "output_type": "execute_result"
    }
   ],
   "source": [
    "salary=[]\n",
    "salary_tag= driver.find_elements_by_xpath(\"//div[@class='value body-medium']\")\n",
    "for i in salary_tag:\n",
    "    salary.append(i.text)\n",
    "    \n",
    "salary"
   ]
  },
  {
   "cell_type": "markdown",
   "id": "1fe1d619",
   "metadata": {},
   "source": [
    "# minimum_salary"
   ]
  },
  {
   "cell_type": "code",
   "execution_count": 255,
   "id": "63a4a83d",
   "metadata": {},
   "outputs": [
    {
     "data": {
      "text/plain": [
       "['₹ 25.0L',\n",
       " '₹ 15.0L',\n",
       " '₹ 5.6L',\n",
       " '₹ 9.8L',\n",
       " '₹ 11.0L',\n",
       " '₹ 9.5L',\n",
       " '₹ 9.0L',\n",
       " '₹ 8.3L',\n",
       " '₹ 10.0L',\n",
       " '₹ 8.5L']"
      ]
     },
     "execution_count": 255,
     "metadata": {},
     "output_type": "execute_result"
    }
   ],
   "source": [
    "minimum_salary=salary[0::2]\n",
    "minimum_salary\n",
    "\n"
   ]
  },
  {
   "cell_type": "markdown",
   "id": "f39c8b01",
   "metadata": {},
   "source": [
    "# Maximum_salary"
   ]
  },
  {
   "cell_type": "code",
   "execution_count": 256,
   "id": "3819d292",
   "metadata": {},
   "outputs": [
    {
     "data": {
      "text/plain": [
       "['₹ 35.0L',\n",
       " '₹ 25.5L',\n",
       " '₹ 26.2L',\n",
       " '₹ 20.0L',\n",
       " '₹ 22.4L',\n",
       " '₹ 22.0L',\n",
       " '₹ 20.0L',\n",
       " '₹ 20.5L',\n",
       " '₹ 21.0L',\n",
       " '₹ 15.0L']"
      ]
     },
     "execution_count": 256,
     "metadata": {},
     "output_type": "execute_result"
    }
   ],
   "source": [
    "maximum_salary=salary[1::2]\n",
    "maximum_salary"
   ]
  },
  {
   "cell_type": "markdown",
   "id": "0b982278",
   "metadata": {},
   "source": [
    "Check the length"
   ]
  },
  {
   "cell_type": "code",
   "execution_count": 257,
   "id": "49ab8e4c",
   "metadata": {},
   "outputs": [
    {
     "name": "stdout",
     "output_type": "stream",
     "text": [
      "10 10 10 10 10\n"
     ]
    }
   ],
   "source": [
    "print(len(company_name), len(total_salary), len(average_salary),len(minimum_salary), len(maximum_salary))"
   ]
  },
  {
   "cell_type": "markdown",
   "id": "85386d5b",
   "metadata": {},
   "source": [
    "# Make DataFrame"
   ]
  },
  {
   "cell_type": "code",
   "execution_count": 258,
   "id": "299bd98e",
   "metadata": {},
   "outputs": [
    {
     "data": {
      "text/html": [
       "<div>\n",
       "<style scoped>\n",
       "    .dataframe tbody tr th:only-of-type {\n",
       "        vertical-align: middle;\n",
       "    }\n",
       "\n",
       "    .dataframe tbody tr th {\n",
       "        vertical-align: top;\n",
       "    }\n",
       "\n",
       "    .dataframe thead th {\n",
       "        text-align: right;\n",
       "    }\n",
       "</style>\n",
       "<table border=\"1\" class=\"dataframe\">\n",
       "  <thead>\n",
       "    <tr style=\"text-align: right;\">\n",
       "      <th></th>\n",
       "      <th>Company_Name</th>\n",
       "      <th>Total_Salary</th>\n",
       "      <th>Average_Salary</th>\n",
       "      <th>Minimum_Salary</th>\n",
       "      <th>Maximum_Salary</th>\n",
       "    </tr>\n",
       "  </thead>\n",
       "  <tbody>\n",
       "    <tr>\n",
       "      <th>0</th>\n",
       "      <td>Walmart</td>\n",
       "      <td>based on 11 salaries</td>\n",
       "      <td>₹ 29.7L</td>\n",
       "      <td>₹ 25.0L</td>\n",
       "      <td>₹ 35.0L</td>\n",
       "    </tr>\n",
       "    <tr>\n",
       "      <th>1</th>\n",
       "      <td>Ab Inbev</td>\n",
       "      <td>based on 31 salaries</td>\n",
       "      <td>₹ 20.5L</td>\n",
       "      <td>₹ 15.0L</td>\n",
       "      <td>₹ 25.5L</td>\n",
       "    </tr>\n",
       "    <tr>\n",
       "      <th>2</th>\n",
       "      <td>Reliance Jio</td>\n",
       "      <td>based on 10 salaries</td>\n",
       "      <td>₹ 18.9L</td>\n",
       "      <td>₹ 5.6L</td>\n",
       "      <td>₹ 26.2L</td>\n",
       "    </tr>\n",
       "    <tr>\n",
       "      <th>3</th>\n",
       "      <td>ZS</td>\n",
       "      <td>based on 15 salaries</td>\n",
       "      <td>₹ 15.9L</td>\n",
       "      <td>₹ 9.8L</td>\n",
       "      <td>₹ 20.0L</td>\n",
       "    </tr>\n",
       "    <tr>\n",
       "      <th>4</th>\n",
       "      <td>Optum</td>\n",
       "      <td>based on 28 salaries</td>\n",
       "      <td>₹ 15.4L</td>\n",
       "      <td>₹ 11.0L</td>\n",
       "      <td>₹ 22.4L</td>\n",
       "    </tr>\n",
       "    <tr>\n",
       "      <th>5</th>\n",
       "      <td>Fractal Analytics</td>\n",
       "      <td>based on 81 salaries</td>\n",
       "      <td>₹ 15.1L</td>\n",
       "      <td>₹ 9.5L</td>\n",
       "      <td>₹ 22.0L</td>\n",
       "    </tr>\n",
       "    <tr>\n",
       "      <th>6</th>\n",
       "      <td>Tiger Analytics</td>\n",
       "      <td>based on 46 salaries</td>\n",
       "      <td>₹ 14.8L</td>\n",
       "      <td>₹ 9.0L</td>\n",
       "      <td>₹ 20.0L</td>\n",
       "    </tr>\n",
       "    <tr>\n",
       "      <th>7</th>\n",
       "      <td>UnitedHealth</td>\n",
       "      <td>based on 53 salaries</td>\n",
       "      <td>₹ 14.0L</td>\n",
       "      <td>₹ 8.3L</td>\n",
       "      <td>₹ 20.5L</td>\n",
       "    </tr>\n",
       "    <tr>\n",
       "      <th>8</th>\n",
       "      <td>Verizon</td>\n",
       "      <td>based on 14 salaries</td>\n",
       "      <td>₹ 12.7L</td>\n",
       "      <td>₹ 10.0L</td>\n",
       "      <td>₹ 21.0L</td>\n",
       "    </tr>\n",
       "    <tr>\n",
       "      <th>9</th>\n",
       "      <td>Ganit Business Solutions</td>\n",
       "      <td>based on 13 salaries</td>\n",
       "      <td>₹ 12.4L</td>\n",
       "      <td>₹ 8.5L</td>\n",
       "      <td>₹ 15.0L</td>\n",
       "    </tr>\n",
       "  </tbody>\n",
       "</table>\n",
       "</div>"
      ],
      "text/plain": [
       "               Company_Name          Total_Salary Average_Salary  \\\n",
       "0                   Walmart  based on 11 salaries        ₹ 29.7L   \n",
       "1                  Ab Inbev  based on 31 salaries        ₹ 20.5L   \n",
       "2              Reliance Jio  based on 10 salaries        ₹ 18.9L   \n",
       "3                        ZS  based on 15 salaries        ₹ 15.9L   \n",
       "4                     Optum  based on 28 salaries        ₹ 15.4L   \n",
       "5         Fractal Analytics  based on 81 salaries        ₹ 15.1L   \n",
       "6           Tiger Analytics  based on 46 salaries        ₹ 14.8L   \n",
       "7              UnitedHealth  based on 53 salaries        ₹ 14.0L   \n",
       "8                   Verizon  based on 14 salaries        ₹ 12.7L   \n",
       "9  Ganit Business Solutions  based on 13 salaries        ₹ 12.4L   \n",
       "\n",
       "  Minimum_Salary Maximum_Salary  \n",
       "0        ₹ 25.0L        ₹ 35.0L  \n",
       "1        ₹ 15.0L        ₹ 25.5L  \n",
       "2         ₹ 5.6L        ₹ 26.2L  \n",
       "3         ₹ 9.8L        ₹ 20.0L  \n",
       "4        ₹ 11.0L        ₹ 22.4L  \n",
       "5         ₹ 9.5L        ₹ 22.0L  \n",
       "6         ₹ 9.0L        ₹ 20.0L  \n",
       "7         ₹ 8.3L        ₹ 20.5L  \n",
       "8        ₹ 10.0L        ₹ 21.0L  \n",
       "9         ₹ 8.5L        ₹ 15.0L  "
      ]
     },
     "execution_count": 258,
     "metadata": {},
     "output_type": "execute_result"
    }
   ],
   "source": [
    "df=pd.DataFrame({'Company_Name': company_name,\n",
    "                 'Total_Salary': total_salary,\n",
    "                 'Average_Salary': average_salary,\n",
    "                 'Minimum_Salary': minimum_salary,\n",
    "                 'Maximum_Salary': maximum_salary})\n",
    "df"
   ]
  },
  {
   "cell_type": "code",
   "execution_count": 259,
   "id": "59ebe453",
   "metadata": {},
   "outputs": [],
   "source": [
    "driver.close()"
   ]
  },
  {
   "cell_type": "code",
   "execution_count": null,
   "id": "6d7363bb",
   "metadata": {},
   "outputs": [],
   "source": []
  }
 ],
 "metadata": {
  "kernelspec": {
   "display_name": "Python 3",
   "language": "python",
   "name": "python3"
  },
  "language_info": {
   "codemirror_mode": {
    "name": "ipython",
    "version": 3
   },
   "file_extension": ".py",
   "mimetype": "text/x-python",
   "name": "python",
   "nbconvert_exporter": "python",
   "pygments_lexer": "ipython3",
   "version": "3.8.8"
  }
 },
 "nbformat": 4,
 "nbformat_minor": 5
}
